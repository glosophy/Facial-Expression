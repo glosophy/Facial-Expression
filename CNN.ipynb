{
  "nbformat": 4,
  "nbformat_minor": 0,
  "metadata": {
    "colab": {
      "name": "CNN.ipynb",
      "provenance": [],
      "collapsed_sections": [],
      "toc_visible": true,
      "machine_shape": "hm",
      "mount_file_id": "1biSJlgF0FIn-6JPfdZkiVOYvqiu50eNn",
      "authorship_tag": "ABX9TyOXuSoKecpWDUSgy1CdJ0qA",
      "include_colab_link": true
    },
    "kernelspec": {
      "name": "python3",
      "display_name": "Python 3"
    },
    "accelerator": "GPU"
  },
  "cells": [
    {
      "cell_type": "markdown",
      "metadata": {
        "id": "view-in-github",
        "colab_type": "text"
      },
      "source": [
        "<a href=\"https://colab.research.google.com/github/glosophy/Facial-Expression/blob/main/CNN.ipynb\" target=\"_parent\"><img src=\"https://colab.research.google.com/assets/colab-badge.svg\" alt=\"Open In Colab\"/></a>"
      ]
    },
    {
      "cell_type": "markdown",
      "metadata": {
        "id": "bnRNk0eaeo9B"
      },
      "source": [
        "# **Convolutional Neural Network**\n",
        "\n",
        "The model architecture chosen for this image classification task is a simple convolutional network that consists of three Conv2D layers with max pooling, followed by a fully-connected layer that finally outputs the probability for each of the seven classes.\n",
        "\n",
        "The model performed better under the Adam optimizer compared to SGD."
      ]
    },
    {
      "cell_type": "code",
      "metadata": {
        "id": "wT6F4kIHKbbz",
        "outputId": "304ac1d4-e51b-440c-933f-32e8c54599b3",
        "colab": {
          "base_uri": "https://localhost:8080/"
        }
      },
      "source": [
        "from google.colab import drive\n",
        "drive.mount('/gdrive')\n",
        "%cd /gdrive"
      ],
      "execution_count": 146,
      "outputs": [
        {
          "output_type": "stream",
          "text": [
            "Drive already mounted at /gdrive; to attempt to forcibly remount, call drive.mount(\"/gdrive\", force_remount=True).\n",
            "/gdrive\n"
          ],
          "name": "stdout"
        }
      ]
    },
    {
      "cell_type": "markdown",
      "metadata": {
        "id": "5TNDU8CBgdoD"
      },
      "source": [
        "Import libraries"
      ]
    },
    {
      "cell_type": "code",
      "metadata": {
        "id": "T_ziQEyELo4z"
      },
      "source": [
        "import os, glob\n",
        "import numpy as np\n",
        "from collections import Counter\n",
        "from keras.utils import to_categorical\n",
        "from sklearn import preprocessing\n",
        "import collections\n",
        "import matplotlib.pyplot as plt\n",
        "import tensorflow as tf\n",
        "from keras.utils import to_categorical\n",
        "from keras.models import Model\n",
        "from tensorflow.keras.layers import Dense, Dropout\n",
        "from tensorflow.keras import layers, models\n",
        "from keras.layers import Conv2D, MaxPool2D, Flatten, MaxPooling2D"
      ],
      "execution_count": 147,
      "outputs": []
    },
    {
      "cell_type": "markdown",
      "metadata": {
        "id": "01ZVRgO6giwi"
      },
      "source": [
        "See Kaggle folder content:"
      ]
    },
    {
      "cell_type": "code",
      "metadata": {
        "id": "je8IRW2FeoZC",
        "outputId": "c228b222-07f8-488c-ae8f-460bc874a360",
        "colab": {
          "base_uri": "https://localhost:8080/"
        }
      },
      "source": [
        "path = '/gdrive/My Drive/Colab Notebooks/Facial-Expression/facial-expression/'\n",
        "os.listdir(path)"
      ],
      "execution_count": 148,
      "outputs": [
        {
          "output_type": "execute_result",
          "data": {
            "text/plain": [
              "['fer2013',\n",
              " 'example_submission.csv',\n",
              " 'fer2013.tar.gz',\n",
              " 'icml_face_data.csv',\n",
              " 'test.csv',\n",
              " 'train.csv']"
            ]
          },
          "metadata": {
            "tags": []
          },
          "execution_count": 148
        }
      ]
    },
    {
      "cell_type": "markdown",
      "metadata": {
        "id": "C5TkizhwiTh3"
      },
      "source": [
        "### **Data loading**"
      ]
    },
    {
      "cell_type": "code",
      "metadata": {
        "id": "-KZl6lKDg-Ty",
        "outputId": "fff846a2-a326-4350-9a88-f081d6e4b4ea",
        "colab": {
          "base_uri": "https://localhost:8080/",
          "height": 204
        }
      },
      "source": [
        "import pandas as pd\n",
        "\n",
        "df = pd.read_csv(path+'icml_face_data.csv')\n",
        "\n",
        "df.head()"
      ],
      "execution_count": 149,
      "outputs": [
        {
          "output_type": "execute_result",
          "data": {
            "text/html": [
              "<div>\n",
              "<style scoped>\n",
              "    .dataframe tbody tr th:only-of-type {\n",
              "        vertical-align: middle;\n",
              "    }\n",
              "\n",
              "    .dataframe tbody tr th {\n",
              "        vertical-align: top;\n",
              "    }\n",
              "\n",
              "    .dataframe thead th {\n",
              "        text-align: right;\n",
              "    }\n",
              "</style>\n",
              "<table border=\"1\" class=\"dataframe\">\n",
              "  <thead>\n",
              "    <tr style=\"text-align: right;\">\n",
              "      <th></th>\n",
              "      <th>emotion</th>\n",
              "      <th>Usage</th>\n",
              "      <th>pixels</th>\n",
              "    </tr>\n",
              "  </thead>\n",
              "  <tbody>\n",
              "    <tr>\n",
              "      <th>0</th>\n",
              "      <td>0</td>\n",
              "      <td>Training</td>\n",
              "      <td>70 80 82 72 58 58 60 63 54 58 60 48 89 115 121...</td>\n",
              "    </tr>\n",
              "    <tr>\n",
              "      <th>1</th>\n",
              "      <td>0</td>\n",
              "      <td>Training</td>\n",
              "      <td>151 150 147 155 148 133 111 140 170 174 182 15...</td>\n",
              "    </tr>\n",
              "    <tr>\n",
              "      <th>2</th>\n",
              "      <td>2</td>\n",
              "      <td>Training</td>\n",
              "      <td>231 212 156 164 174 138 161 173 182 200 106 38...</td>\n",
              "    </tr>\n",
              "    <tr>\n",
              "      <th>3</th>\n",
              "      <td>4</td>\n",
              "      <td>Training</td>\n",
              "      <td>24 32 36 30 32 23 19 20 30 41 21 22 32 34 21 1...</td>\n",
              "    </tr>\n",
              "    <tr>\n",
              "      <th>4</th>\n",
              "      <td>6</td>\n",
              "      <td>Training</td>\n",
              "      <td>4 0 0 0 0 0 0 0 0 0 0 0 3 15 23 28 48 50 58 84...</td>\n",
              "    </tr>\n",
              "  </tbody>\n",
              "</table>\n",
              "</div>"
            ],
            "text/plain": [
              "   emotion     Usage                                             pixels\n",
              "0        0  Training  70 80 82 72 58 58 60 63 54 58 60 48 89 115 121...\n",
              "1        0  Training  151 150 147 155 148 133 111 140 170 174 182 15...\n",
              "2        2  Training  231 212 156 164 174 138 161 173 182 200 106 38...\n",
              "3        4  Training  24 32 36 30 32 23 19 20 30 41 21 22 32 34 21 1...\n",
              "4        6  Training  4 0 0 0 0 0 0 0 0 0 0 0 3 15 23 28 48 50 58 84..."
            ]
          },
          "metadata": {
            "tags": []
          },
          "execution_count": 149
        }
      ]
    },
    {
      "cell_type": "markdown",
      "metadata": {
        "id": "QJ9fF5DwmmAc"
      },
      "source": [
        "Prepare and split data into train, test, and validation"
      ]
    },
    {
      "cell_type": "code",
      "metadata": {
        "id": "DPbKUek9nJt6"
      },
      "source": [
        "training = df[df[' Usage'] == 'Training']\n",
        "test = df[df[' Usage'] == 'PublicTest']\n",
        "validation = df[df[' Usage'] == 'PrivateTest']"
      ],
      "execution_count": 150,
      "outputs": []
    },
    {
      "cell_type": "code",
      "metadata": {
        "id": "ay7-VnQXkxpR"
      },
      "source": [
        "def getImgLabel(df1):\n",
        "  '''It returns images and labels for each dataframe'''\n",
        "\n",
        "  labels = []\n",
        "  images = []\n",
        "  \n",
        "  df1.reset_index(drop=True, inplace=True)\n",
        "\n",
        "  for j in range(len(df1)):\n",
        "    image = np.fromstring(df1.loc[j, ' pixels'], dtype=int, sep=' ')\n",
        "    image = np.reshape(image, (48, 48))\n",
        "    images.append(image)\n",
        "  labels.append(df1['emotion'].tolist())\n",
        "\n",
        "  return np.array(labels[0]), np.array(images)"
      ],
      "execution_count": 151,
      "outputs": []
    },
    {
      "cell_type": "code",
      "metadata": {
        "id": "yZF_Lf4tkyOO"
      },
      "source": [
        "train_labels, train_images = getImgLabel(training)\n",
        "test_labels, test_images = getImgLabel(test)\n",
        "val_labels, val_images = getImgLabel(validation)"
      ],
      "execution_count": 152,
      "outputs": []
    },
    {
      "cell_type": "code",
      "metadata": {
        "id": "hXdlIRDBmI1i",
        "outputId": "7748a95f-9930-4425-d482-55781ac778a9",
        "colab": {
          "base_uri": "https://localhost:8080/"
        }
      },
      "source": [
        "print('Train images count:', len(train_images))\n",
        "print('Train labels count:', len(train_labels))\n",
        "print('')\n",
        "print('Test images count:', len(test_images))\n",
        "print('Test labels count:', len(test_labels))\n",
        "print('')\n",
        "print('Validation images count:', len(val_images))\n",
        "print('Validation images count:', len(val_labels))"
      ],
      "execution_count": 153,
      "outputs": [
        {
          "output_type": "stream",
          "text": [
            "Train images count: 28709\n",
            "Train labels count: 28709\n",
            "\n",
            "Test images count: 3589\n",
            "Test labels count: 3589\n",
            "\n",
            "Validation images count: 3589\n",
            "Validation images count: 3589\n"
          ],
          "name": "stdout"
        }
      ]
    },
    {
      "cell_type": "code",
      "metadata": {
        "id": "4NjNdxSeHFAI",
        "outputId": "8a28d27d-1f80-4a33-b01f-446e71ad340a",
        "colab": {
          "base_uri": "https://localhost:8080/"
        }
      },
      "source": [
        "count_train = Counter(train_labels)\n",
        "lists = sorted(count_train.items()) # sorted by key, return a list of tuples\n",
        "print(lists)"
      ],
      "execution_count": 154,
      "outputs": [
        {
          "output_type": "stream",
          "text": [
            "[(0, 3995), (1, 436), (2, 4097), (3, 7215), (4, 4830), (5, 3171), (6, 4965)]\n"
          ],
          "name": "stdout"
        }
      ]
    },
    {
      "cell_type": "markdown",
      "metadata": {
        "id": "QeViAT-dlYq3"
      },
      "source": [
        "### **Building the model**"
      ]
    },
    {
      "cell_type": "markdown",
      "metadata": {
        "id": "suPDmiW8PO5F"
      },
      "source": [
        "Prepare data to fit in CNN"
      ]
    },
    {
      "cell_type": "code",
      "metadata": {
        "id": "M1WwvsW-OVLM"
      },
      "source": [
        "train_images = (train_images.reshape((train_images.shape[0], 48, 48, 1))).astype('float32')/255\n",
        "val_images = (val_images.reshape((val_images.shape[0], 48, 48, 1))).astype('float32')/255\n",
        "test_images = (test_images.reshape((test_images.shape[0], 48, 48, 1))).astype('float32')/255"
      ],
      "execution_count": 155,
      "outputs": []
    },
    {
      "cell_type": "code",
      "metadata": {
        "id": "YfNcy4ysPTtP"
      },
      "source": [
        "train_labels = to_categorical(train_labels)\n",
        "test_labels = to_categorical(test_labels)\n",
        "val_labels = to_categorical(val_labels)"
      ],
      "execution_count": 156,
      "outputs": []
    },
    {
      "cell_type": "markdown",
      "metadata": {
        "id": "K8zOJ-52Lbdu"
      },
      "source": [
        "Build CNN"
      ]
    },
    {
      "cell_type": "code",
      "metadata": {
        "id": "xvTMBJz7Qd8B"
      },
      "source": [
        "model = models.Sequential()\n",
        "model.add(layers.Conv2D(128, (3, 3), activation='relu', input_shape=(48, 48, 1)))\n",
        "model.add(layers.MaxPooling2D((2, 2)))\n",
        "\n",
        "model.add(layers.Conv2D(128, (3, 3), activation='relu'))\n",
        "model.add(layers.MaxPooling2D((2, 2)))\n",
        "\n",
        "model.add(layers.Conv2D(256, (3, 3), activation='relu'))\n",
        "model.add(layers.MaxPooling2D((2, 2)))\n",
        "\n",
        "model.add(layers.GlobalAveragePooling2D())\n",
        "model.add(layers.Dense(7, activation='softmax'))\n",
        "\n",
        "model.compile(optimizer='adam', loss='categorical_crossentropy', metrics=['accuracy'])"
      ],
      "execution_count": 157,
      "outputs": []
    },
    {
      "cell_type": "code",
      "metadata": {
        "id": "KDPdNFERGiLZ",
        "outputId": "e906b511-266c-4140-e7e8-a180867af749",
        "colab": {
          "base_uri": "https://localhost:8080/"
        }
      },
      "source": [
        "model.summary()"
      ],
      "execution_count": 158,
      "outputs": [
        {
          "output_type": "stream",
          "text": [
            "Model: \"sequential_27\"\n",
            "_________________________________________________________________\n",
            "Layer (type)                 Output Shape              Param #   \n",
            "=================================================================\n",
            "conv2d_79 (Conv2D)           (None, 46, 46, 128)       1280      \n",
            "_________________________________________________________________\n",
            "max_pooling2d_55 (MaxPooling (None, 23, 23, 128)       0         \n",
            "_________________________________________________________________\n",
            "conv2d_80 (Conv2D)           (None, 21, 21, 128)       147584    \n",
            "_________________________________________________________________\n",
            "max_pooling2d_56 (MaxPooling (None, 10, 10, 128)       0         \n",
            "_________________________________________________________________\n",
            "conv2d_81 (Conv2D)           (None, 8, 8, 256)         295168    \n",
            "_________________________________________________________________\n",
            "max_pooling2d_57 (MaxPooling (None, 4, 4, 256)         0         \n",
            "_________________________________________________________________\n",
            "global_average_pooling2d_13  (None, 256)               0         \n",
            "_________________________________________________________________\n",
            "dense_43 (Dense)             (None, 7)                 1799      \n",
            "=================================================================\n",
            "Total params: 445,831\n",
            "Trainable params: 445,831\n",
            "Non-trainable params: 0\n",
            "_________________________________________________________________\n"
          ],
          "name": "stdout"
        }
      ]
    },
    {
      "cell_type": "code",
      "metadata": {
        "id": "Q2k1bWvpNrK5",
        "outputId": "30ae3467-62b1-43c7-a923-4251c9854601",
        "colab": {
          "base_uri": "https://localhost:8080/"
        }
      },
      "source": [
        "history = model.fit(train_images, train_labels,\n",
        "                    validation_data=(val_images, val_labels),\n",
        "                    epochs=20,\n",
        "                    batch_size=64)"
      ],
      "execution_count": 159,
      "outputs": [
        {
          "output_type": "stream",
          "text": [
            "Epoch 1/20\n",
            "449/449 [==============================] - 3s 7ms/step - loss: 1.7958 - accuracy: 0.2508 - val_loss: 1.7855 - val_accuracy: 0.2516\n",
            "Epoch 2/20\n",
            "449/449 [==============================] - 3s 6ms/step - loss: 1.7609 - accuracy: 0.2731 - val_loss: 1.7177 - val_accuracy: 0.3001\n",
            "Epoch 3/20\n",
            "449/449 [==============================] - 3s 6ms/step - loss: 1.6598 - accuracy: 0.3330 - val_loss: 1.5868 - val_accuracy: 0.3692\n",
            "Epoch 4/20\n",
            "449/449 [==============================] - 3s 6ms/step - loss: 1.5399 - accuracy: 0.4000 - val_loss: 1.5026 - val_accuracy: 0.4046\n",
            "Epoch 5/20\n",
            "449/449 [==============================] - 3s 6ms/step - loss: 1.4458 - accuracy: 0.4467 - val_loss: 1.4123 - val_accuracy: 0.4556\n",
            "Epoch 6/20\n",
            "449/449 [==============================] - 3s 6ms/step - loss: 1.3837 - accuracy: 0.4760 - val_loss: 1.3745 - val_accuracy: 0.4695\n",
            "Epoch 7/20\n",
            "449/449 [==============================] - 3s 6ms/step - loss: 1.3343 - accuracy: 0.4935 - val_loss: 1.3400 - val_accuracy: 0.4890\n",
            "Epoch 8/20\n",
            "449/449 [==============================] - 3s 6ms/step - loss: 1.2945 - accuracy: 0.5120 - val_loss: 1.3126 - val_accuracy: 0.4923\n",
            "Epoch 9/20\n",
            "449/449 [==============================] - 3s 6ms/step - loss: 1.2566 - accuracy: 0.5276 - val_loss: 1.3197 - val_accuracy: 0.4974\n",
            "Epoch 10/20\n",
            "449/449 [==============================] - 3s 6ms/step - loss: 1.2286 - accuracy: 0.5398 - val_loss: 1.2552 - val_accuracy: 0.5185\n",
            "Epoch 11/20\n",
            "449/449 [==============================] - 3s 6ms/step - loss: 1.1958 - accuracy: 0.5551 - val_loss: 1.2668 - val_accuracy: 0.5222\n",
            "Epoch 12/20\n",
            "449/449 [==============================] - 3s 6ms/step - loss: 1.1632 - accuracy: 0.5700 - val_loss: 1.2257 - val_accuracy: 0.5389\n",
            "Epoch 13/20\n",
            "449/449 [==============================] - 3s 6ms/step - loss: 1.1362 - accuracy: 0.5778 - val_loss: 1.2270 - val_accuracy: 0.5350\n",
            "Epoch 14/20\n",
            "449/449 [==============================] - 3s 6ms/step - loss: 1.1100 - accuracy: 0.5872 - val_loss: 1.2093 - val_accuracy: 0.5386\n",
            "Epoch 15/20\n",
            "449/449 [==============================] - 3s 6ms/step - loss: 1.0836 - accuracy: 0.5960 - val_loss: 1.2147 - val_accuracy: 0.5414\n",
            "Epoch 16/20\n",
            "449/449 [==============================] - 3s 6ms/step - loss: 1.0607 - accuracy: 0.6066 - val_loss: 1.2049 - val_accuracy: 0.5456\n",
            "Epoch 17/20\n",
            "449/449 [==============================] - 3s 6ms/step - loss: 1.0347 - accuracy: 0.6195 - val_loss: 1.1907 - val_accuracy: 0.5472\n",
            "Epoch 18/20\n",
            "449/449 [==============================] - 3s 6ms/step - loss: 1.0077 - accuracy: 0.6273 - val_loss: 1.1689 - val_accuracy: 0.5637\n",
            "Epoch 19/20\n",
            "449/449 [==============================] - 3s 6ms/step - loss: 0.9831 - accuracy: 0.6385 - val_loss: 1.1675 - val_accuracy: 0.5600\n",
            "Epoch 20/20\n",
            "449/449 [==============================] - 3s 6ms/step - loss: 0.9583 - accuracy: 0.6482 - val_loss: 1.1733 - val_accuracy: 0.5592\n"
          ],
          "name": "stdout"
        }
      ]
    },
    {
      "cell_type": "markdown",
      "metadata": {
        "id": "slbMBY4wlkfx"
      },
      "source": [
        "### **Evaluating the model**"
      ]
    },
    {
      "cell_type": "markdown",
      "metadata": {
        "id": "RYGo7-mXSDul"
      },
      "source": [
        "Plot the accuracies"
      ]
    },
    {
      "cell_type": "code",
      "metadata": {
        "id": "Mz1Y5xO5N6rt",
        "outputId": "56f1ff52-0f18-4fbc-d3e9-957a5d790020",
        "colab": {
          "base_uri": "https://localhost:8080/",
          "height": 338
        }
      },
      "source": [
        "# visualize the model\n",
        "acc = history.history['accuracy']\n",
        "val_acc = history.history['val_accuracy']\n",
        "\n",
        "loss = history.history['loss']\n",
        "val_loss = history.history['val_loss']\n",
        "\n",
        "epochs_range = range(20)\n",
        "\n",
        "plt.figure(figsize=(12, 5))\n",
        "plt.subplot(1, 2, 1)\n",
        "plt.plot(epochs_range, acc, label='Training Accuracy')\n",
        "plt.plot(epochs_range, val_acc, label='Validation Accuracy')\n",
        "plt.legend(loc='lower right')\n",
        "plt.title('Training and Validation Accuracy')\n",
        "\n",
        "plt.subplot(1, 2, 2)\n",
        "plt.plot(epochs_range, loss, label='Training Loss')\n",
        "plt.plot(epochs_range, val_loss, label='Validation Loss')\n",
        "plt.legend(loc='upper right')\n",
        "plt.title('Training and Validation Loss')\n",
        "plt.show()"
      ],
      "execution_count": 160,
      "outputs": [
        {
          "output_type": "display_data",
          "data": {
            "image/png": "[encoded data removed]",
            "text/plain": [
              "<Figure size 864x360 with 2 Axes>"
            ]
          },
          "metadata": {
            "tags": []
          }
        }
      ]
    },
    {
      "cell_type": "markdown",
      "metadata": {
        "id": "fOmO5aL6SDmQ"
      },
      "source": [
        "Final accuracy"
      ]
    },
    {
      "cell_type": "code",
      "metadata": {
        "id": "GvIcVsFGTKy7",
        "outputId": "1ed131c9-db3d-40e2-e408-04c9c03e769c",
        "colab": {
          "base_uri": "https://localhost:8080/"
        }
      },
      "source": [
        "scores = model.evaluate(test_images, test_labels, verbose=False)\n",
        "print(f'Test accuracy: {scores[1]}')"
      ],
      "execution_count": 161,
      "outputs": [
        {
          "output_type": "stream",
          "text": [
            "Test accuracy: 0.5736973881721497\n"
          ],
          "name": "stdout"
        }
      ]
    },
    {
      "cell_type": "markdown",
      "metadata": {
        "id": "v_nDNALIXRU-"
      },
      "source": [
        "Confussion matrix"
      ]
    },
    {
      "cell_type": "code",
      "metadata": {
        "id": "PvoATuipTLob",
        "outputId": "916de08d-3418-471e-f184-dd6556b96eb5",
        "colab": {
          "base_uri": "https://localhost:8080/",
          "height": 448
        }
      },
      "source": [
        "# https://stackoverflow.com/questions/51282098/plotting-confusion-matrix-for-an-image-classification-model\n",
        "\n",
        "from sklearn.metrics import confusion_matrix\n",
        "import sklearn.metrics as metrics\n",
        "import seaborn as sns\n",
        "\n",
        "classes = ['Angry', 'Disgust', 'Fear', 'Happy', 'Sad', 'Surprise', 'Neutral']\n",
        "\n",
        "y_pred = model.predict(test_images)\n",
        "y_pred = np.asarray([np.argmax(e) for e in y_pred])\n",
        "y_true = np.asarray([np.argmax(e) for e in test_labels])\n",
        "\n",
        "cm = confusion_matrix(y_true, y_pred)\n",
        "\n",
        "# Plot confusion matrix\n",
        "fig, ax = plt.subplots(figsize=(7,7))\n",
        "ax = sns.heatmap(cm, annot=True,  \n",
        "                 cmap='Blues', yticklabels=classes,\n",
        "                 xticklabels=classes, vmin=0,\n",
        "                 vmax=np.max(cm), fmt=\".0f\")\n",
        "ax.set(xlabel='Predicted label', ylabel='True label')\n",
        "plt.show()"
      ],
      "execution_count": 162,
      "outputs": [
        {
          "output_type": "display_data",
          "data": {
            "image/png": "[encoded data removed]",
            "text/plain": [
              "<Figure size 504x504 with 2 Axes>"
            ]
          },
          "metadata": {
            "tags": []
          }
        }
      ]
    },
    {
      "cell_type": "markdown",
      "metadata": {
        "id": "UumTgoEDcq_Q"
      },
      "source": [
        "Classification report"
      ]
    },
    {
      "cell_type": "code",
      "metadata": {
        "id": "hw_e2gzAbuUi",
        "outputId": "c2c55dad-1645-4e6c-d5dd-81695b7e4e66",
        "colab": {
          "base_uri": "https://localhost:8080/"
        }
      },
      "source": [
        "from sklearn.metrics import classification_report\n",
        "\n",
        "print(classification_report(y_true, y_pred, target_names=classes))"
      ],
      "execution_count": 163,
      "outputs": [
        {
          "output_type": "stream",
          "text": [
            "              precision    recall  f1-score   support\n",
            "\n",
            "       Angry       0.42      0.59      0.49       467\n",
            "     Disgust       0.58      0.25      0.35        56\n",
            "        Fear       0.43      0.23      0.30       496\n",
            "       Happy       0.75      0.80      0.77       895\n",
            "         Sad       0.50      0.47      0.49       653\n",
            "    Surprise       0.69      0.76      0.72       415\n",
            "     Neutral       0.52      0.52      0.52       607\n",
            "\n",
            "    accuracy                           0.57      3589\n",
            "   macro avg       0.56      0.52      0.52      3589\n",
            "weighted avg       0.57      0.57      0.56      3589\n",
            "\n"
          ],
          "name": "stdout"
        }
      ]
    }
  ]
}