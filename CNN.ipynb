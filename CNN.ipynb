{
  "nbformat": 4,
  "nbformat_minor": 0,
  "metadata": {
    "colab": {
      "name": "CNN.ipynb",
      "provenance": [],
      "collapsed_sections": [],
      "machine_shape": "hm",
      "mount_file_id": "1biSJlgF0FIn-6JPfdZkiVOYvqiu50eNn",
      "authorship_tag": "ABX9TyPtVuocUyXp/W0vmaAOuyZn"
    },
    "kernelspec": {
      "name": "python3",
      "display_name": "Python 3"
    },
    "accelerator": "GPU"
  },
  "cells": [
    {
      "cell_type": "markdown",
      "metadata": {
        "id": "PGDnfyPLKgjC"
      },
      "source": [
        "[![Open In Colab](https://colab.research.google.com/assets/colab-badge.svg)](https://colab.research.google.com/github/googlecolab/colabtools/blob/master/notebooks/colab-github-demo.ipynb)"
      ]
    },
    {
      "cell_type": "code",
      "metadata": {
        "id": "wT6F4kIHKbbz",
        "outputId": "a45e8aa5-f81e-464c-e991-75e550b6bc97",
        "colab": {
          "base_uri": "https://localhost:8080/"
        }
      },
      "source": [
        "from google.colab import drive\n",
        "drive.mount('/gdrive')\n",
        "%cd /gdrive"
      ],
      "execution_count": null,
      "outputs": [
        {
          "output_type": "stream",
          "text": [
            "Mounted at /gdrive\n",
            "/gdrive\n"
          ],
          "name": "stdout"
        }
      ]
    },
    {
      "cell_type": "markdown",
      "metadata": {
        "id": "5TNDU8CBgdoD"
      },
      "source": [
        "Import libraries:"
      ]
    },
    {
      "cell_type": "code",
      "metadata": {
        "id": "T_ziQEyELo4z"
      },
      "source": [
        "import os, glob, cv2\n",
        "from random import randint\n",
        "import numpy as np\n",
        "import pathlib\n",
        "from collections import Counter\n",
        "from keras.utils import to_categorical\n",
        "from sklearn import preprocessing\n",
        "import collections\n",
        "import glob\n",
        "import IPython.display as display\n",
        "from PIL import Image\n",
        "import numpy as np\n",
        "import matplotlib.pyplot as plt\n",
        "import tensorflow as tf\n",
        "from keras.utils import to_categorical\n",
        "from sklearn.utils import class_weight\n",
        "import random\n",
        "from keras.preprocessing import image\n",
        "from keras.models import Model\n",
        "from tensorflow.keras.wrappers.scikit_learn import KerasClassifier\n",
        "from sklearn.model_selection import GridSearchCV\n",
        "from tensorboard.plugins.hparams import api as hp\n",
        "from tensorflow.keras.layers import Dense, Dropout\n",
        "from tensorflow.keras import layers, models\n",
        "from keras.preprocessing.image import ImageDataGenerator\n",
        "from tensorflow.keras import regularizers\n",
        "import sklearn.metrics as metrics\n",
        "from keras.layers import Conv2D, MaxPool2D, Flatten, BatchNormalization, Activation, MaxPooling2D\n",
        "from keras.optimizers import Adam"
      ],
      "execution_count": null,
      "outputs": []
    },
    {
      "cell_type": "markdown",
      "metadata": {
        "id": "01ZVRgO6giwi"
      },
      "source": [
        "See Kaggle folder content:"
      ]
    },
    {
      "cell_type": "code",
      "metadata": {
        "id": "je8IRW2FeoZC",
        "outputId": "0bd381d1-5068-4d98-f487-cc86e62f3b7a",
        "colab": {
          "base_uri": "https://localhost:8080/"
        }
      },
      "source": [
        "path = '/gdrive/My Drive/Colab Notebooks/Facial-Expression/facial-expression/'\n",
        "os.listdir(path)"
      ],
      "execution_count": null,
      "outputs": [
        {
          "output_type": "execute_result",
          "data": {
            "text/plain": [
              "['fer2013',\n",
              " 'example_submission.csv',\n",
              " 'fer2013.tar.gz',\n",
              " 'icml_face_data.csv',\n",
              " 'test.csv',\n",
              " 'train.csv']"
            ]
          },
          "metadata": {
            "tags": []
          },
          "execution_count": 3
        }
      ]
    },
    {
      "cell_type": "markdown",
      "metadata": {
        "id": "C5TkizhwiTh3"
      },
      "source": [
        "Load the data:"
      ]
    },
    {
      "cell_type": "code",
      "metadata": {
        "id": "-KZl6lKDg-Ty",
        "outputId": "87b4b2f1-d78e-4c27-8318-558d1a866c9c",
        "colab": {
          "base_uri": "https://localhost:8080/",
          "height": 204
        }
      },
      "source": [
        "import pandas as pd\n",
        "\n",
        "df = pd.read_csv(path+'icml_face_data.csv')\n",
        "\n",
        "df.head()"
      ],
      "execution_count": null,
      "outputs": [
        {
          "output_type": "execute_result",
          "data": {
            "text/html": [
              "<div>\n",
              "<style scoped>\n",
              "    .dataframe tbody tr th:only-of-type {\n",
              "        vertical-align: middle;\n",
              "    }\n",
              "\n",
              "    .dataframe tbody tr th {\n",
              "        vertical-align: top;\n",
              "    }\n",
              "\n",
              "    .dataframe thead th {\n",
              "        text-align: right;\n",
              "    }\n",
              "</style>\n",
              "<table border=\"1\" class=\"dataframe\">\n",
              "  <thead>\n",
              "    <tr style=\"text-align: right;\">\n",
              "      <th></th>\n",
              "      <th>emotion</th>\n",
              "      <th>Usage</th>\n",
              "      <th>pixels</th>\n",
              "    </tr>\n",
              "  </thead>\n",
              "  <tbody>\n",
              "    <tr>\n",
              "      <th>0</th>\n",
              "      <td>0</td>\n",
              "      <td>Training</td>\n",
              "      <td>70 80 82 72 58 58 60 63 54 58 60 48 89 115 121...</td>\n",
              "    </tr>\n",
              "    <tr>\n",
              "      <th>1</th>\n",
              "      <td>0</td>\n",
              "      <td>Training</td>\n",
              "      <td>151 150 147 155 148 133 111 140 170 174 182 15...</td>\n",
              "    </tr>\n",
              "    <tr>\n",
              "      <th>2</th>\n",
              "      <td>2</td>\n",
              "      <td>Training</td>\n",
              "      <td>231 212 156 164 174 138 161 173 182 200 106 38...</td>\n",
              "    </tr>\n",
              "    <tr>\n",
              "      <th>3</th>\n",
              "      <td>4</td>\n",
              "      <td>Training</td>\n",
              "      <td>24 32 36 30 32 23 19 20 30 41 21 22 32 34 21 1...</td>\n",
              "    </tr>\n",
              "    <tr>\n",
              "      <th>4</th>\n",
              "      <td>6</td>\n",
              "      <td>Training</td>\n",
              "      <td>4 0 0 0 0 0 0 0 0 0 0 0 3 15 23 28 48 50 58 84...</td>\n",
              "    </tr>\n",
              "  </tbody>\n",
              "</table>\n",
              "</div>"
            ],
            "text/plain": [
              "   emotion     Usage                                             pixels\n",
              "0        0  Training  70 80 82 72 58 58 60 63 54 58 60 48 89 115 121...\n",
              "1        0  Training  151 150 147 155 148 133 111 140 170 174 182 15...\n",
              "2        2  Training  231 212 156 164 174 138 161 173 182 200 106 38...\n",
              "3        4  Training  24 32 36 30 32 23 19 20 30 41 21 22 32 34 21 1...\n",
              "4        6  Training  4 0 0 0 0 0 0 0 0 0 0 0 3 15 23 28 48 50 58 84..."
            ]
          },
          "metadata": {
            "tags": []
          },
          "execution_count": 4
        }
      ]
    },
    {
      "cell_type": "markdown",
      "metadata": {
        "id": "QJ9fF5DwmmAc"
      },
      "source": [
        "Prepare and split data into train, test, and validation:"
      ]
    },
    {
      "cell_type": "code",
      "metadata": {
        "id": "DPbKUek9nJt6"
      },
      "source": [
        "training = df[df[' Usage'] == 'Training']\n",
        "test = df[df[' Usage'] == 'PublicTest']\n",
        "validation = df[df[' Usage'] == 'PrivateTest']"
      ],
      "execution_count": null,
      "outputs": []
    },
    {
      "cell_type": "code",
      "metadata": {
        "id": "ay7-VnQXkxpR"
      },
      "source": [
        "def getImgLabel(df1):\n",
        "  '''It returns images and labels for each dataframe'''\n",
        "\n",
        "  labels = []\n",
        "  images = []\n",
        "  \n",
        "  df1.reset_index(drop=True, inplace=True)\n",
        "\n",
        "  for j in range(len(df1)):\n",
        "    image = np.fromstring(df1.loc[j, ' pixels'], dtype=int, sep=' ')\n",
        "    image = np.reshape(image, (48, 48))\n",
        "    images.append(image)\n",
        "  labels.append(df1['emotion'].tolist())\n",
        "\n",
        "  return np.array(labels[0]), np.array(images)"
      ],
      "execution_count": null,
      "outputs": []
    },
    {
      "cell_type": "code",
      "metadata": {
        "id": "yZF_Lf4tkyOO"
      },
      "source": [
        "train_labels, train_images = getImgLabel(training)\n",
        "test_labels, test_images = getImgLabel(test)\n",
        "val_labels, val_images = getImgLabel(validation)"
      ],
      "execution_count": null,
      "outputs": []
    },
    {
      "cell_type": "code",
      "metadata": {
        "id": "hXdlIRDBmI1i",
        "outputId": "8a715531-9afb-4b82-f750-8d313d2050ad",
        "colab": {
          "base_uri": "https://localhost:8080/"
        }
      },
      "source": [
        "print('Train images count:', len(train_images))\n",
        "print('Train labels count:', len(train_labels))\n",
        "print('')\n",
        "print('Test images count:', len(test_images))\n",
        "print('Test labels count:', len(test_labels))\n",
        "print('')\n",
        "print('Validation images count:', len(val_images))\n",
        "print('Validation images count:', len(val_labels))"
      ],
      "execution_count": null,
      "outputs": [
        {
          "output_type": "stream",
          "text": [
            "Train images count: 28709\n",
            "Train labels count: 28709\n",
            "\n",
            "Test images count: 3589\n",
            "Test labels count: 3589\n",
            "\n",
            "Validation images count: 3589\n",
            "Validation images count: 3589\n"
          ],
          "name": "stdout"
        }
      ]
    },
    {
      "cell_type": "code",
      "metadata": {
        "id": "4NjNdxSeHFAI",
        "outputId": "868c2e5a-7efe-499c-f617-f82c10e82bf9",
        "colab": {
          "base_uri": "https://localhost:8080/"
        }
      },
      "source": [
        "from collections import Counter\n",
        "import matplotlib.pyplot as plt\n",
        "\n",
        "count_train = Counter(train_labels)\n",
        "lists = sorted(count_train.items()) # sorted by key, return a list of tuples\n",
        "print(lists)"
      ],
      "execution_count": null,
      "outputs": [
        {
          "output_type": "stream",
          "text": [
            "[(0, 3995), (1, 436), (2, 4097), (3, 7215), (4, 4830), (5, 3171), (6, 4965)]\n"
          ],
          "name": "stdout"
        }
      ]
    },
    {
      "cell_type": "markdown",
      "metadata": {
        "id": "i21oVFF_QiNC"
      },
      "source": [
        "Set class weights:"
      ]
    },
    {
      "cell_type": "code",
      "metadata": {
        "id": "Vu8lfwqOQlt7",
        "outputId": "1f5087e2-b542-4ee2-e23e-16c39e4f8b12",
        "colab": {
          "base_uri": "https://localhost:8080/"
        }
      },
      "source": [
        "def get_class_weights(y):\n",
        "    counter = Counter(y)\n",
        "    majority = max(counter.values())\n",
        "    return  {cls: float(majority/count) for cls, count in counter.items()}\n",
        "\n",
        "class_weight = get_class_weights(train_labels)\n",
        "\n",
        "class_weight"
      ],
      "execution_count": null,
      "outputs": [
        {
          "output_type": "execute_result",
          "data": {
            "text/plain": [
              "{0: 1.8060075093867334,\n",
              " 1: 16.548165137614678,\n",
              " 2: 1.7610446668293873,\n",
              " 3: 1.0,\n",
              " 4: 1.4937888198757765,\n",
              " 5: 2.275307473982971,\n",
              " 6: 1.4531722054380665}"
            ]
          },
          "metadata": {
            "tags": []
          },
          "execution_count": 10
        }
      ]
    },
    {
      "cell_type": "markdown",
      "metadata": {
        "id": "suPDmiW8PO5F"
      },
      "source": [
        "Prepare data to fit in CNN:"
      ]
    },
    {
      "cell_type": "code",
      "metadata": {
        "id": "M1WwvsW-OVLM"
      },
      "source": [
        "train_images = (train_images.reshape((train_images.shape[0], 48, 48, 1))).astype('float32')/255\n",
        "val_images = (val_images.reshape((val_images.shape[0], 48, 48, 1))).astype('float32')/255\n",
        "test_images = (test_images.reshape((test_images.shape[0], 48, 48, 1))).astype('float32')/255"
      ],
      "execution_count": null,
      "outputs": []
    },
    {
      "cell_type": "code",
      "metadata": {
        "id": "YfNcy4ysPTtP"
      },
      "source": [
        "train_labels = to_categorical(train_labels)\n",
        "test_labels = to_categorical(test_labels)\n",
        "val_labels = to_categorical(val_labels)"
      ],
      "execution_count": null,
      "outputs": []
    },
    {
      "cell_type": "markdown",
      "metadata": {
        "id": "K8zOJ-52Lbdu"
      },
      "source": [
        "Build CNN"
      ]
    },
    {
      "cell_type": "code",
      "metadata": {
        "id": "5aPe-B21LQgP"
      },
      "source": [
        "model = models.Sequential()\n",
        "model.add(Conv2D(32, (3, 3), activation='relu', input_shape=(48, 48, 1)))\n",
        "model.add(MaxPool2D((2, 2)))\n",
        "model.add(Conv2D(64, (3, 3), activation='relu'))\n",
        "model.add(MaxPool2D((2, 2)))\n",
        "model.add(Conv2D(64, (3, 3), activation='relu'))\n",
        "model.add(Flatten())\n",
        "model.add(Dense(64, activation='relu'))\n",
        "model.add(Dense(7, activation='softmax'))\n",
        "\n",
        "model.compile(optimizer='adam', loss='categorical_crossentropy', metrics=['accuracy'])"
      ],
      "execution_count": null,
      "outputs": []
    },
    {
      "cell_type": "code",
      "metadata": {
        "id": "XEa1qNQDRWyo"
      },
      "source": [
        "model = models.Sequential()\n",
        "#model.add(layers.Conv2D(64, (3, 3), activation='relu', input_shape=(224, 224, 3)))\n",
        "model.add(layers.Conv2D(64, (3, 3), activation='relu', input_shape=(48, 48, 1)))\n",
        "#model.layers[0].set_weights(weights)\n",
        "model.add(layers.MaxPooling2D((2, 2)))\n",
        "\n",
        "model.add(layers.Conv2D(128, (3, 3), activation='relu'))\n",
        "model.add(layers.MaxPooling2D((2, 2)))\n",
        "\n",
        "model.add(layers.Conv2D(256, (3, 3), activation='relu'))\n",
        "model.add(layers.MaxPooling2D((2, 2)))\n",
        "\n",
        "model.add(layers.Conv2D(512, (3, 3), activation='relu'))\n",
        "model.add(layers.MaxPooling2D((2, 2)))\n",
        "\n",
        "# model.add(layers.Conv2D(512, (3, 3), activation='relu'))\n",
        "# model.add(layers.MaxPooling2D((2, 2)))\n",
        "\n",
        "# model.add(layers.Conv2D(512, (3, 3), activation='relu'))\n",
        "\n",
        "model.add(layers.GlobalAveragePooling2D())\n",
        "model.add(layers.Dense(7, activation='softmax'))\n",
        "\n",
        "model.compile(optimizer='adam', loss='categorical_crossentropy', metrics=['accuracy'])"
      ],
      "execution_count": null,
      "outputs": []
    },
    {
      "cell_type": "code",
      "metadata": {
        "id": "oORthoWEUKzS"
      },
      "source": [
        "model = models.Sequential()\n",
        "#Module1 conv<<conv<<batchnorm<<relu<<maxpooling<<dropout\n",
        "model.add(Conv2D(2*32,kernel_size=(3,3),padding='same',data_format='channels_last',input_shape=(48, 48, 1)))\n",
        "model.add(Conv2D(2*32,kernel_size=(3,3),padding='same'))\n",
        "model.add(BatchNormalization())\n",
        "model.add(Activation('relu'))\n",
        "model.add(MaxPooling2D())\n",
        "model.add(Dropout(rate=0.2))\n",
        "#Module2 conv<<conv<<batchnorm<<relu<<maxpool<<dropout\n",
        "model.add(Conv2D(2*2*32,kernel_size=(3,3),padding='same'))\n",
        "model.add(Conv2D(2*2*32,kernel_size=(3,3),padding='same'))\n",
        "model.add(BatchNormalization())\n",
        "model.add(Activation('relu'))\n",
        "model.add(MaxPooling2D())\n",
        "model.add(Dropout(rate=0.2))\n",
        "#Module3 conv<<conv<<batchnorm<<relu<<maxpool<<dropout\n",
        "model.add(Conv2D(2*2*2*32,kernel_size=(1,1),padding='same'))\n",
        "model.add(Conv2D(2*2*2*32,kernel_size=(1,1),strides=(2,2)))\n",
        "model.add(BatchNormalization())\n",
        "model.add(Activation('relu'))\n",
        "model.add(MaxPooling2D())\n",
        "model.add(Dropout(rate=0.2))\n",
        "#Module4 fc<<batchnorm<<fc<<batchnorm<<dropout<<softmax\n",
        "model.add(Flatten())\n",
        "model.add(Dense(units=128))\n",
        "model.add(BatchNormalization())\n",
        "model.add(Dense(units=128))\n",
        "model.add(BatchNormalization())\n",
        "model.add(Dropout(rate=0.2))\n",
        "model.add(Dense(7,activation='softmax'))\n",
        "\n",
        "model.compile(loss='categorical_crossentropy',optimizer=Adam(learning_rate=0.001,beta_1=0.9,beta_2=0.999),metrics=['accuracy'])"
      ],
      "execution_count": null,
      "outputs": []
    },
    {
      "cell_type": "code",
      "metadata": {
        "id": "Q2k1bWvpNrK5",
        "outputId": "ec28d50a-ff5c-4e20-9138-efb09bd98c17",
        "colab": {
          "base_uri": "https://localhost:8080/",
          "height": 1000
        }
      },
      "source": [
        "history = model.fit(train_images, train_labels,\n",
        "                    validation_data=(val_images, val_labels),\n",
        "                    #class_weight = class_weight,\n",
        "                    epochs=100,\n",
        "                    batch_size=64)"
      ],
      "execution_count": null,
      "outputs": [
        {
          "output_type": "stream",
          "text": [
            "Epoch 1/100\n",
            "449/449 [==============================] - 8s 17ms/step - loss: 1.8240 - accuracy: 0.3027 - val_loss: 1.9298 - val_accuracy: 0.2792\n",
            "Epoch 2/100\n",
            "449/449 [==============================] - 7s 16ms/step - loss: 1.4877 - accuracy: 0.4335 - val_loss: 1.3816 - val_accuracy: 0.4795\n",
            "Epoch 3/100\n",
            "449/449 [==============================] - 7s 16ms/step - loss: 1.3693 - accuracy: 0.4780 - val_loss: 1.3152 - val_accuracy: 0.4848\n",
            "Epoch 4/100\n",
            "449/449 [==============================] - 7s 16ms/step - loss: 1.3115 - accuracy: 0.5025 - val_loss: 1.3601 - val_accuracy: 0.4809\n",
            "Epoch 5/100\n",
            "449/449 [==============================] - 7s 16ms/step - loss: 1.2755 - accuracy: 0.5192 - val_loss: 1.2363 - val_accuracy: 0.5274\n",
            "Epoch 6/100\n",
            "449/449 [==============================] - 7s 16ms/step - loss: 1.2453 - accuracy: 0.5299 - val_loss: 1.4150 - val_accuracy: 0.4923\n",
            "Epoch 7/100\n",
            "449/449 [==============================] - 7s 16ms/step - loss: 1.2245 - accuracy: 0.5375 - val_loss: 1.2753 - val_accuracy: 0.5216\n",
            "Epoch 8/100\n",
            "449/449 [==============================] - 7s 16ms/step - loss: 1.2029 - accuracy: 0.5436 - val_loss: 1.2596 - val_accuracy: 0.5222\n",
            "Epoch 9/100\n",
            "449/449 [==============================] - 7s 16ms/step - loss: 1.1821 - accuracy: 0.5569 - val_loss: 1.2342 - val_accuracy: 0.5400\n",
            "Epoch 10/100\n",
            "449/449 [==============================] - 7s 16ms/step - loss: 1.1680 - accuracy: 0.5588 - val_loss: 1.2394 - val_accuracy: 0.5358\n",
            "Epoch 11/100\n",
            "449/449 [==============================] - 7s 16ms/step - loss: 1.1546 - accuracy: 0.5623 - val_loss: 1.2702 - val_accuracy: 0.5160\n",
            "Epoch 12/100\n",
            "449/449 [==============================] - 7s 16ms/step - loss: 1.1417 - accuracy: 0.5674 - val_loss: 1.2394 - val_accuracy: 0.5327\n",
            "Epoch 13/100\n",
            "449/449 [==============================] - 7s 16ms/step - loss: 1.1199 - accuracy: 0.5768 - val_loss: 1.1520 - val_accuracy: 0.5754\n",
            "Epoch 14/100\n",
            "449/449 [==============================] - 7s 16ms/step - loss: 1.1091 - accuracy: 0.5833 - val_loss: 1.1913 - val_accuracy: 0.5534\n",
            "Epoch 15/100\n",
            "449/449 [==============================] - 7s 16ms/step - loss: 1.0972 - accuracy: 0.5880 - val_loss: 1.3907 - val_accuracy: 0.4776\n",
            "Epoch 16/100\n",
            "449/449 [==============================] - 7s 16ms/step - loss: 1.0853 - accuracy: 0.5893 - val_loss: 1.2261 - val_accuracy: 0.5414\n",
            "Epoch 17/100\n",
            "449/449 [==============================] - 7s 16ms/step - loss: 1.0708 - accuracy: 0.6006 - val_loss: 1.1882 - val_accuracy: 0.5556\n",
            "Epoch 18/100\n",
            "449/449 [==============================] - 7s 16ms/step - loss: 1.0633 - accuracy: 0.6005 - val_loss: 1.2036 - val_accuracy: 0.5584\n",
            "Epoch 19/100\n",
            "449/449 [==============================] - 7s 16ms/step - loss: 1.0463 - accuracy: 0.6095 - val_loss: 1.1558 - val_accuracy: 0.5673\n",
            "Epoch 20/100\n",
            "449/449 [==============================] - 7s 16ms/step - loss: 1.0388 - accuracy: 0.6109 - val_loss: 1.1824 - val_accuracy: 0.5486\n",
            "Epoch 21/100\n",
            "449/449 [==============================] - 7s 16ms/step - loss: 1.0281 - accuracy: 0.6132 - val_loss: 1.1910 - val_accuracy: 0.5620\n",
            "Epoch 22/100\n",
            "449/449 [==============================] - 7s 16ms/step - loss: 1.0204 - accuracy: 0.6186 - val_loss: 1.1877 - val_accuracy: 0.5517\n",
            "Epoch 23/100\n",
            "449/449 [==============================] - 7s 16ms/step - loss: 1.0108 - accuracy: 0.6228 - val_loss: 1.1687 - val_accuracy: 0.5659\n",
            "Epoch 24/100\n",
            "449/449 [==============================] - 7s 16ms/step - loss: 0.9973 - accuracy: 0.6280 - val_loss: 1.1439 - val_accuracy: 0.5826\n",
            "Epoch 25/100\n",
            "449/449 [==============================] - 7s 16ms/step - loss: 0.9913 - accuracy: 0.6291 - val_loss: 1.2857 - val_accuracy: 0.5235\n",
            "Epoch 26/100\n",
            "449/449 [==============================] - 7s 16ms/step - loss: 0.9780 - accuracy: 0.6370 - val_loss: 1.1181 - val_accuracy: 0.5874\n",
            "Epoch 27/100\n",
            "449/449 [==============================] - 7s 16ms/step - loss: 0.9656 - accuracy: 0.6370 - val_loss: 1.1097 - val_accuracy: 0.5932\n",
            "Epoch 28/100\n",
            "449/449 [==============================] - 7s 16ms/step - loss: 0.9600 - accuracy: 0.6414 - val_loss: 1.1314 - val_accuracy: 0.5885\n",
            "Epoch 29/100\n",
            "449/449 [==============================] - 7s 16ms/step - loss: 0.9596 - accuracy: 0.6426 - val_loss: 1.1813 - val_accuracy: 0.5659\n",
            "Epoch 30/100\n",
            "449/449 [==============================] - 7s 16ms/step - loss: 0.9453 - accuracy: 0.6470 - val_loss: 1.1500 - val_accuracy: 0.5698\n",
            "Epoch 31/100\n",
            "449/449 [==============================] - 7s 16ms/step - loss: 0.9392 - accuracy: 0.6479 - val_loss: 1.1662 - val_accuracy: 0.5653\n",
            "Epoch 32/100\n",
            "449/449 [==============================] - 7s 16ms/step - loss: 0.9315 - accuracy: 0.6537 - val_loss: 1.1420 - val_accuracy: 0.5876\n",
            "Epoch 33/100\n",
            "449/449 [==============================] - 8s 17ms/step - loss: 0.9261 - accuracy: 0.6543 - val_loss: 1.1688 - val_accuracy: 0.5659\n",
            "Epoch 34/100\n",
            "449/449 [==============================] - 7s 16ms/step - loss: 0.9259 - accuracy: 0.6561 - val_loss: 1.1356 - val_accuracy: 0.5823\n",
            "Epoch 35/100\n",
            "449/449 [==============================] - 7s 16ms/step - loss: 0.9160 - accuracy: 0.6598 - val_loss: 1.1140 - val_accuracy: 0.5924\n",
            "Epoch 36/100\n",
            "449/449 [==============================] - 7s 16ms/step - loss: 0.9097 - accuracy: 0.6603 - val_loss: 1.0934 - val_accuracy: 0.5988\n",
            "Epoch 37/100\n",
            "449/449 [==============================] - 7s 17ms/step - loss: 0.8964 - accuracy: 0.6652 - val_loss: 1.1544 - val_accuracy: 0.5846\n",
            "Epoch 38/100\n",
            "449/449 [==============================] - 8s 17ms/step - loss: 0.8942 - accuracy: 0.6629 - val_loss: 1.1328 - val_accuracy: 0.5901\n",
            "Epoch 39/100\n",
            "449/449 [==============================] - 7s 17ms/step - loss: 0.8903 - accuracy: 0.6705 - val_loss: 1.1269 - val_accuracy: 0.5904\n",
            "Epoch 40/100\n",
            "449/449 [==============================] - 7s 17ms/step - loss: 0.8780 - accuracy: 0.6716 - val_loss: 1.1218 - val_accuracy: 0.5971\n",
            "Epoch 41/100\n",
            "449/449 [==============================] - 7s 17ms/step - loss: 0.8700 - accuracy: 0.6741 - val_loss: 1.1159 - val_accuracy: 0.5991\n",
            "Epoch 42/100\n",
            "449/449 [==============================] - 7s 17ms/step - loss: 0.8664 - accuracy: 0.6790 - val_loss: 1.1107 - val_accuracy: 0.5954\n",
            "Epoch 43/100\n",
            "449/449 [==============================] - 7s 17ms/step - loss: 0.8599 - accuracy: 0.6818 - val_loss: 1.1431 - val_accuracy: 0.5943\n",
            "Epoch 44/100\n",
            "449/449 [==============================] - 7s 17ms/step - loss: 0.8553 - accuracy: 0.6824 - val_loss: 1.1234 - val_accuracy: 0.5932\n",
            "Epoch 45/100\n",
            "449/449 [==============================] - 8s 17ms/step - loss: 0.8545 - accuracy: 0.6795 - val_loss: 1.0964 - val_accuracy: 0.5991\n",
            "Epoch 46/100\n",
            "449/449 [==============================] - 8s 17ms/step - loss: 0.8427 - accuracy: 0.6842 - val_loss: 1.1223 - val_accuracy: 0.5929\n",
            "Epoch 47/100\n",
            "449/449 [==============================] - 8s 17ms/step - loss: 0.8390 - accuracy: 0.6868 - val_loss: 1.1151 - val_accuracy: 0.5971\n",
            "Epoch 48/100\n",
            "449/449 [==============================] - 8s 17ms/step - loss: 0.8411 - accuracy: 0.6842 - val_loss: 1.1237 - val_accuracy: 0.5963\n",
            "Epoch 49/100\n",
            "449/449 [==============================] - 8s 17ms/step - loss: 0.8310 - accuracy: 0.6902 - val_loss: 1.1929 - val_accuracy: 0.5553\n",
            "Epoch 50/100\n",
            "449/449 [==============================] - 7s 17ms/step - loss: 0.8265 - accuracy: 0.6926 - val_loss: 1.1760 - val_accuracy: 0.5751\n",
            "Epoch 51/100\n",
            "449/449 [==============================] - 7s 17ms/step - loss: 0.8227 - accuracy: 0.6946 - val_loss: 1.1352 - val_accuracy: 0.5887\n",
            "Epoch 52/100\n",
            "449/449 [==============================] - 7s 17ms/step - loss: 0.8188 - accuracy: 0.6955 - val_loss: 1.1623 - val_accuracy: 0.5826\n",
            "Epoch 53/100\n",
            "449/449 [==============================] - 7s 17ms/step - loss: 0.8209 - accuracy: 0.6947 - val_loss: 1.1521 - val_accuracy: 0.5893\n",
            "Epoch 54/100\n",
            "449/449 [==============================] - 7s 17ms/step - loss: 0.8145 - accuracy: 0.6946 - val_loss: 1.1044 - val_accuracy: 0.6071\n",
            "Epoch 55/100\n",
            "449/449 [==============================] - 7s 17ms/step - loss: 0.8093 - accuracy: 0.6986 - val_loss: 1.1982 - val_accuracy: 0.5782\n",
            "Epoch 56/100\n",
            "449/449 [==============================] - 7s 17ms/step - loss: 0.7985 - accuracy: 0.7052 - val_loss: 1.1404 - val_accuracy: 0.5926\n",
            "Epoch 57/100\n",
            "449/449 [==============================] - 7s 17ms/step - loss: 0.7925 - accuracy: 0.7050 - val_loss: 1.1528 - val_accuracy: 0.5804\n",
            "Epoch 58/100\n",
            "449/449 [==============================] - 7s 17ms/step - loss: 0.7955 - accuracy: 0.7021 - val_loss: 1.1494 - val_accuracy: 0.5874\n",
            "Epoch 59/100\n",
            "449/449 [==============================] - 7s 17ms/step - loss: 0.7904 - accuracy: 0.7054 - val_loss: 1.1554 - val_accuracy: 0.5893\n",
            "Epoch 60/100\n",
            "449/449 [==============================] - 7s 17ms/step - loss: 0.7849 - accuracy: 0.7080 - val_loss: 1.1428 - val_accuracy: 0.5929\n",
            "Epoch 61/100\n",
            "363/449 [=======================>......] - ETA: 1s - loss: 0.7744 - accuracy: 0.7130"
          ],
          "name": "stdout"
        },
        {
          "output_type": "error",
          "ename": "KeyboardInterrupt",
          "evalue": "ignored",
          "traceback": [
            "\u001b[0;31m---------------------------------------------------------------------------\u001b[0m",
            "\u001b[0;31mKeyboardInterrupt\u001b[0m                         Traceback (most recent call last)",
            "\u001b[0;32m<ipython-input-35-de925c5ecb09>\u001b[0m in \u001b[0;36m<module>\u001b[0;34m()\u001b[0m\n\u001b[1;32m      3\u001b[0m                     \u001b[0;31m#class_weight = class_weight,\u001b[0m\u001b[0;34m\u001b[0m\u001b[0;34m\u001b[0m\u001b[0;34m\u001b[0m\u001b[0m\n\u001b[1;32m      4\u001b[0m                     \u001b[0mepochs\u001b[0m\u001b[0;34m=\u001b[0m\u001b[0;36m100\u001b[0m\u001b[0;34m,\u001b[0m\u001b[0;34m\u001b[0m\u001b[0;34m\u001b[0m\u001b[0m\n\u001b[0;32m----> 5\u001b[0;31m                     batch_size=64)\n\u001b[0m",
            "\u001b[0;32m/usr/local/lib/python3.6/dist-packages/tensorflow/python/keras/engine/training.py\u001b[0m in \u001b[0;36m_method_wrapper\u001b[0;34m(self, *args, **kwargs)\u001b[0m\n\u001b[1;32m    106\u001b[0m   \u001b[0;32mdef\u001b[0m \u001b[0m_method_wrapper\u001b[0m\u001b[0;34m(\u001b[0m\u001b[0mself\u001b[0m\u001b[0;34m,\u001b[0m \u001b[0;34m*\u001b[0m\u001b[0margs\u001b[0m\u001b[0;34m,\u001b[0m \u001b[0;34m**\u001b[0m\u001b[0mkwargs\u001b[0m\u001b[0;34m)\u001b[0m\u001b[0;34m:\u001b[0m\u001b[0;34m\u001b[0m\u001b[0;34m\u001b[0m\u001b[0m\n\u001b[1;32m    107\u001b[0m     \u001b[0;32mif\u001b[0m \u001b[0;32mnot\u001b[0m \u001b[0mself\u001b[0m\u001b[0;34m.\u001b[0m\u001b[0m_in_multi_worker_mode\u001b[0m\u001b[0;34m(\u001b[0m\u001b[0;34m)\u001b[0m\u001b[0;34m:\u001b[0m  \u001b[0;31m# pylint: disable=protected-access\u001b[0m\u001b[0;34m\u001b[0m\u001b[0;34m\u001b[0m\u001b[0m\n\u001b[0;32m--> 108\u001b[0;31m       \u001b[0;32mreturn\u001b[0m \u001b[0mmethod\u001b[0m\u001b[0;34m(\u001b[0m\u001b[0mself\u001b[0m\u001b[0;34m,\u001b[0m \u001b[0;34m*\u001b[0m\u001b[0margs\u001b[0m\u001b[0;34m,\u001b[0m \u001b[0;34m**\u001b[0m\u001b[0mkwargs\u001b[0m\u001b[0;34m)\u001b[0m\u001b[0;34m\u001b[0m\u001b[0;34m\u001b[0m\u001b[0m\n\u001b[0m\u001b[1;32m    109\u001b[0m \u001b[0;34m\u001b[0m\u001b[0m\n\u001b[1;32m    110\u001b[0m     \u001b[0;31m# Running inside `run_distribute_coordinator` already.\u001b[0m\u001b[0;34m\u001b[0m\u001b[0;34m\u001b[0m\u001b[0;34m\u001b[0m\u001b[0m\n",
            "\u001b[0;32m/usr/local/lib/python3.6/dist-packages/tensorflow/python/keras/engine/training.py\u001b[0m in \u001b[0;36mfit\u001b[0;34m(self, x, y, batch_size, epochs, verbose, callbacks, validation_split, validation_data, shuffle, class_weight, sample_weight, initial_epoch, steps_per_epoch, validation_steps, validation_batch_size, validation_freq, max_queue_size, workers, use_multiprocessing)\u001b[0m\n\u001b[1;32m   1101\u001b[0m               \u001b[0mlogs\u001b[0m \u001b[0;34m=\u001b[0m \u001b[0mtmp_logs\u001b[0m  \u001b[0;31m# No error, now safe to assign to logs.\u001b[0m\u001b[0;34m\u001b[0m\u001b[0;34m\u001b[0m\u001b[0m\n\u001b[1;32m   1102\u001b[0m               \u001b[0mend_step\u001b[0m \u001b[0;34m=\u001b[0m \u001b[0mstep\u001b[0m \u001b[0;34m+\u001b[0m \u001b[0mdata_handler\u001b[0m\u001b[0;34m.\u001b[0m\u001b[0mstep_increment\u001b[0m\u001b[0;34m\u001b[0m\u001b[0;34m\u001b[0m\u001b[0m\n\u001b[0;32m-> 1103\u001b[0;31m               \u001b[0mcallbacks\u001b[0m\u001b[0;34m.\u001b[0m\u001b[0mon_train_batch_end\u001b[0m\u001b[0;34m(\u001b[0m\u001b[0mend_step\u001b[0m\u001b[0;34m,\u001b[0m \u001b[0mlogs\u001b[0m\u001b[0;34m)\u001b[0m\u001b[0;34m\u001b[0m\u001b[0;34m\u001b[0m\u001b[0m\n\u001b[0m\u001b[1;32m   1104\u001b[0m         \u001b[0mepoch_logs\u001b[0m \u001b[0;34m=\u001b[0m \u001b[0mcopy\u001b[0m\u001b[0;34m.\u001b[0m\u001b[0mcopy\u001b[0m\u001b[0;34m(\u001b[0m\u001b[0mlogs\u001b[0m\u001b[0;34m)\u001b[0m\u001b[0;34m\u001b[0m\u001b[0;34m\u001b[0m\u001b[0m\n\u001b[1;32m   1105\u001b[0m \u001b[0;34m\u001b[0m\u001b[0m\n",
            "\u001b[0;32m/usr/local/lib/python3.6/dist-packages/tensorflow/python/keras/callbacks.py\u001b[0m in \u001b[0;36mon_train_batch_end\u001b[0;34m(self, batch, logs)\u001b[0m\n\u001b[1;32m    438\u001b[0m     \"\"\"\n\u001b[1;32m    439\u001b[0m     \u001b[0;32mif\u001b[0m \u001b[0mself\u001b[0m\u001b[0;34m.\u001b[0m\u001b[0m_should_call_train_batch_hooks\u001b[0m\u001b[0;34m:\u001b[0m\u001b[0;34m\u001b[0m\u001b[0;34m\u001b[0m\u001b[0m\n\u001b[0;32m--> 440\u001b[0;31m       \u001b[0mself\u001b[0m\u001b[0;34m.\u001b[0m\u001b[0m_call_batch_hook\u001b[0m\u001b[0;34m(\u001b[0m\u001b[0mModeKeys\u001b[0m\u001b[0;34m.\u001b[0m\u001b[0mTRAIN\u001b[0m\u001b[0;34m,\u001b[0m \u001b[0;34m'end'\u001b[0m\u001b[0;34m,\u001b[0m \u001b[0mbatch\u001b[0m\u001b[0;34m,\u001b[0m \u001b[0mlogs\u001b[0m\u001b[0;34m=\u001b[0m\u001b[0mlogs\u001b[0m\u001b[0;34m)\u001b[0m\u001b[0;34m\u001b[0m\u001b[0;34m\u001b[0m\u001b[0m\n\u001b[0m\u001b[1;32m    441\u001b[0m \u001b[0;34m\u001b[0m\u001b[0m\n\u001b[1;32m    442\u001b[0m   \u001b[0;32mdef\u001b[0m \u001b[0mon_test_batch_begin\u001b[0m\u001b[0;34m(\u001b[0m\u001b[0mself\u001b[0m\u001b[0;34m,\u001b[0m \u001b[0mbatch\u001b[0m\u001b[0;34m,\u001b[0m \u001b[0mlogs\u001b[0m\u001b[0;34m=\u001b[0m\u001b[0;32mNone\u001b[0m\u001b[0;34m)\u001b[0m\u001b[0;34m:\u001b[0m\u001b[0;34m\u001b[0m\u001b[0;34m\u001b[0m\u001b[0m\n",
            "\u001b[0;32m/usr/local/lib/python3.6/dist-packages/tensorflow/python/keras/callbacks.py\u001b[0m in \u001b[0;36m_call_batch_hook\u001b[0;34m(self, mode, hook, batch, logs)\u001b[0m\n\u001b[1;32m    287\u001b[0m       \u001b[0mself\u001b[0m\u001b[0;34m.\u001b[0m\u001b[0m_call_batch_begin_hook\u001b[0m\u001b[0;34m(\u001b[0m\u001b[0mmode\u001b[0m\u001b[0;34m,\u001b[0m \u001b[0mbatch\u001b[0m\u001b[0;34m,\u001b[0m \u001b[0mlogs\u001b[0m\u001b[0;34m)\u001b[0m\u001b[0;34m\u001b[0m\u001b[0;34m\u001b[0m\u001b[0m\n\u001b[1;32m    288\u001b[0m     \u001b[0;32melif\u001b[0m \u001b[0mhook\u001b[0m \u001b[0;34m==\u001b[0m \u001b[0;34m'end'\u001b[0m\u001b[0;34m:\u001b[0m\u001b[0;34m\u001b[0m\u001b[0;34m\u001b[0m\u001b[0m\n\u001b[0;32m--> 289\u001b[0;31m       \u001b[0mself\u001b[0m\u001b[0;34m.\u001b[0m\u001b[0m_call_batch_end_hook\u001b[0m\u001b[0;34m(\u001b[0m\u001b[0mmode\u001b[0m\u001b[0;34m,\u001b[0m \u001b[0mbatch\u001b[0m\u001b[0;34m,\u001b[0m \u001b[0mlogs\u001b[0m\u001b[0;34m)\u001b[0m\u001b[0;34m\u001b[0m\u001b[0;34m\u001b[0m\u001b[0m\n\u001b[0m\u001b[1;32m    290\u001b[0m     \u001b[0;32melse\u001b[0m\u001b[0;34m:\u001b[0m\u001b[0;34m\u001b[0m\u001b[0;34m\u001b[0m\u001b[0m\n\u001b[1;32m    291\u001b[0m       \u001b[0;32mraise\u001b[0m \u001b[0mValueError\u001b[0m\u001b[0;34m(\u001b[0m\u001b[0;34m'Unrecognized hook: {}'\u001b[0m\u001b[0;34m.\u001b[0m\u001b[0mformat\u001b[0m\u001b[0;34m(\u001b[0m\u001b[0mhook\u001b[0m\u001b[0;34m)\u001b[0m\u001b[0;34m)\u001b[0m\u001b[0;34m\u001b[0m\u001b[0;34m\u001b[0m\u001b[0m\n",
            "\u001b[0;32m/usr/local/lib/python3.6/dist-packages/tensorflow/python/keras/callbacks.py\u001b[0m in \u001b[0;36m_call_batch_end_hook\u001b[0;34m(self, mode, batch, logs)\u001b[0m\n\u001b[1;32m    307\u001b[0m       \u001b[0mbatch_time\u001b[0m \u001b[0;34m=\u001b[0m \u001b[0mtime\u001b[0m\u001b[0;34m.\u001b[0m\u001b[0mtime\u001b[0m\u001b[0;34m(\u001b[0m\u001b[0;34m)\u001b[0m \u001b[0;34m-\u001b[0m \u001b[0mself\u001b[0m\u001b[0;34m.\u001b[0m\u001b[0m_batch_start_time\u001b[0m\u001b[0;34m\u001b[0m\u001b[0;34m\u001b[0m\u001b[0m\n\u001b[1;32m    308\u001b[0m \u001b[0;34m\u001b[0m\u001b[0m\n\u001b[0;32m--> 309\u001b[0;31m     \u001b[0mself\u001b[0m\u001b[0;34m.\u001b[0m\u001b[0m_call_batch_hook_helper\u001b[0m\u001b[0;34m(\u001b[0m\u001b[0mhook_name\u001b[0m\u001b[0;34m,\u001b[0m \u001b[0mbatch\u001b[0m\u001b[0;34m,\u001b[0m \u001b[0mlogs\u001b[0m\u001b[0;34m)\u001b[0m\u001b[0;34m\u001b[0m\u001b[0;34m\u001b[0m\u001b[0m\n\u001b[0m\u001b[1;32m    310\u001b[0m \u001b[0;34m\u001b[0m\u001b[0m\n\u001b[1;32m    311\u001b[0m     \u001b[0;32mif\u001b[0m \u001b[0mself\u001b[0m\u001b[0;34m.\u001b[0m\u001b[0m_check_timing\u001b[0m\u001b[0;34m:\u001b[0m\u001b[0;34m\u001b[0m\u001b[0;34m\u001b[0m\u001b[0m\n",
            "\u001b[0;32m/usr/local/lib/python3.6/dist-packages/tensorflow/python/keras/callbacks.py\u001b[0m in \u001b[0;36m_call_batch_hook_helper\u001b[0;34m(self, hook_name, batch, logs)\u001b[0m\n\u001b[1;32m    340\u001b[0m       \u001b[0mhook\u001b[0m \u001b[0;34m=\u001b[0m \u001b[0mgetattr\u001b[0m\u001b[0;34m(\u001b[0m\u001b[0mcallback\u001b[0m\u001b[0;34m,\u001b[0m \u001b[0mhook_name\u001b[0m\u001b[0;34m)\u001b[0m\u001b[0;34m\u001b[0m\u001b[0;34m\u001b[0m\u001b[0m\n\u001b[1;32m    341\u001b[0m       \u001b[0;32mif\u001b[0m \u001b[0mgetattr\u001b[0m\u001b[0;34m(\u001b[0m\u001b[0mcallback\u001b[0m\u001b[0;34m,\u001b[0m \u001b[0;34m'_supports_tf_logs'\u001b[0m\u001b[0;34m,\u001b[0m \u001b[0;32mFalse\u001b[0m\u001b[0;34m)\u001b[0m\u001b[0;34m:\u001b[0m\u001b[0;34m\u001b[0m\u001b[0;34m\u001b[0m\u001b[0m\n\u001b[0;32m--> 342\u001b[0;31m         \u001b[0mhook\u001b[0m\u001b[0;34m(\u001b[0m\u001b[0mbatch\u001b[0m\u001b[0;34m,\u001b[0m \u001b[0mlogs\u001b[0m\u001b[0;34m)\u001b[0m\u001b[0;34m\u001b[0m\u001b[0;34m\u001b[0m\u001b[0m\n\u001b[0m\u001b[1;32m    343\u001b[0m       \u001b[0;32melse\u001b[0m\u001b[0;34m:\u001b[0m\u001b[0;34m\u001b[0m\u001b[0;34m\u001b[0m\u001b[0m\n\u001b[1;32m    344\u001b[0m         \u001b[0;32mif\u001b[0m \u001b[0mnumpy_logs\u001b[0m \u001b[0;32mis\u001b[0m \u001b[0;32mNone\u001b[0m\u001b[0;34m:\u001b[0m  \u001b[0;31m# Only convert once.\u001b[0m\u001b[0;34m\u001b[0m\u001b[0;34m\u001b[0m\u001b[0m\n",
            "\u001b[0;32m/usr/local/lib/python3.6/dist-packages/tensorflow/python/keras/callbacks.py\u001b[0m in \u001b[0;36mon_train_batch_end\u001b[0;34m(self, batch, logs)\u001b[0m\n\u001b[1;32m    959\u001b[0m \u001b[0;34m\u001b[0m\u001b[0m\n\u001b[1;32m    960\u001b[0m   \u001b[0;32mdef\u001b[0m \u001b[0mon_train_batch_end\u001b[0m\u001b[0;34m(\u001b[0m\u001b[0mself\u001b[0m\u001b[0;34m,\u001b[0m \u001b[0mbatch\u001b[0m\u001b[0;34m,\u001b[0m \u001b[0mlogs\u001b[0m\u001b[0;34m=\u001b[0m\u001b[0;32mNone\u001b[0m\u001b[0;34m)\u001b[0m\u001b[0;34m:\u001b[0m\u001b[0;34m\u001b[0m\u001b[0;34m\u001b[0m\u001b[0m\n\u001b[0;32m--> 961\u001b[0;31m     \u001b[0mself\u001b[0m\u001b[0;34m.\u001b[0m\u001b[0m_batch_update_progbar\u001b[0m\u001b[0;34m(\u001b[0m\u001b[0mbatch\u001b[0m\u001b[0;34m,\u001b[0m \u001b[0mlogs\u001b[0m\u001b[0;34m)\u001b[0m\u001b[0;34m\u001b[0m\u001b[0;34m\u001b[0m\u001b[0m\n\u001b[0m\u001b[1;32m    962\u001b[0m \u001b[0;34m\u001b[0m\u001b[0m\n\u001b[1;32m    963\u001b[0m   \u001b[0;32mdef\u001b[0m \u001b[0mon_test_batch_end\u001b[0m\u001b[0;34m(\u001b[0m\u001b[0mself\u001b[0m\u001b[0;34m,\u001b[0m \u001b[0mbatch\u001b[0m\u001b[0;34m,\u001b[0m \u001b[0mlogs\u001b[0m\u001b[0;34m=\u001b[0m\u001b[0;32mNone\u001b[0m\u001b[0;34m)\u001b[0m\u001b[0;34m:\u001b[0m\u001b[0;34m\u001b[0m\u001b[0;34m\u001b[0m\u001b[0m\n",
            "\u001b[0;32m/usr/local/lib/python3.6/dist-packages/tensorflow/python/keras/callbacks.py\u001b[0m in \u001b[0;36m_batch_update_progbar\u001b[0;34m(self, batch, logs)\u001b[0m\n\u001b[1;32m   1014\u001b[0m     \u001b[0;32mif\u001b[0m \u001b[0mself\u001b[0m\u001b[0;34m.\u001b[0m\u001b[0mverbose\u001b[0m \u001b[0;34m==\u001b[0m \u001b[0;36m1\u001b[0m\u001b[0;34m:\u001b[0m\u001b[0;34m\u001b[0m\u001b[0;34m\u001b[0m\u001b[0m\n\u001b[1;32m   1015\u001b[0m       \u001b[0;31m# Only block async when verbose = 1.\u001b[0m\u001b[0;34m\u001b[0m\u001b[0;34m\u001b[0m\u001b[0;34m\u001b[0m\u001b[0m\n\u001b[0;32m-> 1016\u001b[0;31m       \u001b[0mlogs\u001b[0m \u001b[0;34m=\u001b[0m \u001b[0mtf_utils\u001b[0m\u001b[0;34m.\u001b[0m\u001b[0mto_numpy_or_python_type\u001b[0m\u001b[0;34m(\u001b[0m\u001b[0mlogs\u001b[0m\u001b[0;34m)\u001b[0m\u001b[0;34m\u001b[0m\u001b[0;34m\u001b[0m\u001b[0m\n\u001b[0m\u001b[1;32m   1017\u001b[0m       \u001b[0mself\u001b[0m\u001b[0;34m.\u001b[0m\u001b[0mprogbar\u001b[0m\u001b[0;34m.\u001b[0m\u001b[0mupdate\u001b[0m\u001b[0;34m(\u001b[0m\u001b[0mself\u001b[0m\u001b[0;34m.\u001b[0m\u001b[0mseen\u001b[0m\u001b[0;34m,\u001b[0m \u001b[0mlist\u001b[0m\u001b[0;34m(\u001b[0m\u001b[0mlogs\u001b[0m\u001b[0;34m.\u001b[0m\u001b[0mitems\u001b[0m\u001b[0;34m(\u001b[0m\u001b[0;34m)\u001b[0m\u001b[0;34m)\u001b[0m\u001b[0;34m,\u001b[0m \u001b[0mfinalize\u001b[0m\u001b[0;34m=\u001b[0m\u001b[0;32mFalse\u001b[0m\u001b[0;34m)\u001b[0m\u001b[0;34m\u001b[0m\u001b[0;34m\u001b[0m\u001b[0m\n\u001b[1;32m   1018\u001b[0m \u001b[0;34m\u001b[0m\u001b[0m\n",
            "\u001b[0;32m/usr/local/lib/python3.6/dist-packages/tensorflow/python/keras/utils/tf_utils.py\u001b[0m in \u001b[0;36mto_numpy_or_python_type\u001b[0;34m(tensors)\u001b[0m\n\u001b[1;32m    535\u001b[0m     \u001b[0;32mreturn\u001b[0m \u001b[0mt\u001b[0m  \u001b[0;31m# Don't turn ragged or sparse tensors to NumPy.\u001b[0m\u001b[0;34m\u001b[0m\u001b[0;34m\u001b[0m\u001b[0m\n\u001b[1;32m    536\u001b[0m \u001b[0;34m\u001b[0m\u001b[0m\n\u001b[0;32m--> 537\u001b[0;31m   \u001b[0;32mreturn\u001b[0m \u001b[0mnest\u001b[0m\u001b[0;34m.\u001b[0m\u001b[0mmap_structure\u001b[0m\u001b[0;34m(\u001b[0m\u001b[0m_to_single_numpy_or_python_type\u001b[0m\u001b[0;34m,\u001b[0m \u001b[0mtensors\u001b[0m\u001b[0;34m)\u001b[0m\u001b[0;34m\u001b[0m\u001b[0;34m\u001b[0m\u001b[0m\n\u001b[0m\u001b[1;32m    538\u001b[0m \u001b[0;34m\u001b[0m\u001b[0m\n\u001b[1;32m    539\u001b[0m \u001b[0;34m\u001b[0m\u001b[0m\n",
            "\u001b[0;32m/usr/local/lib/python3.6/dist-packages/tensorflow/python/util/nest.py\u001b[0m in \u001b[0;36mmap_structure\u001b[0;34m(func, *structure, **kwargs)\u001b[0m\n\u001b[1;32m    633\u001b[0m \u001b[0;34m\u001b[0m\u001b[0m\n\u001b[1;32m    634\u001b[0m   return pack_sequence_as(\n\u001b[0;32m--> 635\u001b[0;31m       \u001b[0mstructure\u001b[0m\u001b[0;34m[\u001b[0m\u001b[0;36m0\u001b[0m\u001b[0;34m]\u001b[0m\u001b[0;34m,\u001b[0m \u001b[0;34m[\u001b[0m\u001b[0mfunc\u001b[0m\u001b[0;34m(\u001b[0m\u001b[0;34m*\u001b[0m\u001b[0mx\u001b[0m\u001b[0;34m)\u001b[0m \u001b[0;32mfor\u001b[0m \u001b[0mx\u001b[0m \u001b[0;32min\u001b[0m \u001b[0mentries\u001b[0m\u001b[0;34m]\u001b[0m\u001b[0;34m,\u001b[0m\u001b[0;34m\u001b[0m\u001b[0;34m\u001b[0m\u001b[0m\n\u001b[0m\u001b[1;32m    636\u001b[0m       expand_composites=expand_composites)\n\u001b[1;32m    637\u001b[0m \u001b[0;34m\u001b[0m\u001b[0m\n",
            "\u001b[0;32m/usr/local/lib/python3.6/dist-packages/tensorflow/python/util/nest.py\u001b[0m in \u001b[0;36m<listcomp>\u001b[0;34m(.0)\u001b[0m\n\u001b[1;32m    633\u001b[0m \u001b[0;34m\u001b[0m\u001b[0m\n\u001b[1;32m    634\u001b[0m   return pack_sequence_as(\n\u001b[0;32m--> 635\u001b[0;31m       \u001b[0mstructure\u001b[0m\u001b[0;34m[\u001b[0m\u001b[0;36m0\u001b[0m\u001b[0;34m]\u001b[0m\u001b[0;34m,\u001b[0m \u001b[0;34m[\u001b[0m\u001b[0mfunc\u001b[0m\u001b[0;34m(\u001b[0m\u001b[0;34m*\u001b[0m\u001b[0mx\u001b[0m\u001b[0;34m)\u001b[0m \u001b[0;32mfor\u001b[0m \u001b[0mx\u001b[0m \u001b[0;32min\u001b[0m \u001b[0mentries\u001b[0m\u001b[0;34m]\u001b[0m\u001b[0;34m,\u001b[0m\u001b[0;34m\u001b[0m\u001b[0;34m\u001b[0m\u001b[0m\n\u001b[0m\u001b[1;32m    636\u001b[0m       expand_composites=expand_composites)\n\u001b[1;32m    637\u001b[0m \u001b[0;34m\u001b[0m\u001b[0m\n",
            "\u001b[0;32m/usr/local/lib/python3.6/dist-packages/tensorflow/python/keras/utils/tf_utils.py\u001b[0m in \u001b[0;36m_to_single_numpy_or_python_type\u001b[0;34m(t)\u001b[0m\n\u001b[1;32m    531\u001b[0m   \u001b[0;32mdef\u001b[0m \u001b[0m_to_single_numpy_or_python_type\u001b[0m\u001b[0;34m(\u001b[0m\u001b[0mt\u001b[0m\u001b[0;34m)\u001b[0m\u001b[0;34m:\u001b[0m\u001b[0;34m\u001b[0m\u001b[0;34m\u001b[0m\u001b[0m\n\u001b[1;32m    532\u001b[0m     \u001b[0;32mif\u001b[0m \u001b[0misinstance\u001b[0m\u001b[0;34m(\u001b[0m\u001b[0mt\u001b[0m\u001b[0;34m,\u001b[0m \u001b[0mops\u001b[0m\u001b[0;34m.\u001b[0m\u001b[0mTensor\u001b[0m\u001b[0;34m)\u001b[0m\u001b[0;34m:\u001b[0m\u001b[0;34m\u001b[0m\u001b[0;34m\u001b[0m\u001b[0m\n\u001b[0;32m--> 533\u001b[0;31m       \u001b[0mx\u001b[0m \u001b[0;34m=\u001b[0m \u001b[0mt\u001b[0m\u001b[0;34m.\u001b[0m\u001b[0mnumpy\u001b[0m\u001b[0;34m(\u001b[0m\u001b[0;34m)\u001b[0m\u001b[0;34m\u001b[0m\u001b[0;34m\u001b[0m\u001b[0m\n\u001b[0m\u001b[1;32m    534\u001b[0m       \u001b[0;32mreturn\u001b[0m \u001b[0mx\u001b[0m\u001b[0;34m.\u001b[0m\u001b[0mitem\u001b[0m\u001b[0;34m(\u001b[0m\u001b[0;34m)\u001b[0m \u001b[0;32mif\u001b[0m \u001b[0mnp\u001b[0m\u001b[0;34m.\u001b[0m\u001b[0mndim\u001b[0m\u001b[0;34m(\u001b[0m\u001b[0mx\u001b[0m\u001b[0;34m)\u001b[0m \u001b[0;34m==\u001b[0m \u001b[0;36m0\u001b[0m \u001b[0;32melse\u001b[0m \u001b[0mx\u001b[0m\u001b[0;34m\u001b[0m\u001b[0;34m\u001b[0m\u001b[0m\n\u001b[1;32m    535\u001b[0m     \u001b[0;32mreturn\u001b[0m \u001b[0mt\u001b[0m  \u001b[0;31m# Don't turn ragged or sparse tensors to NumPy.\u001b[0m\u001b[0;34m\u001b[0m\u001b[0;34m\u001b[0m\u001b[0m\n",
            "\u001b[0;32m/usr/local/lib/python3.6/dist-packages/tensorflow/python/framework/ops.py\u001b[0m in \u001b[0;36mnumpy\u001b[0;34m(self)\u001b[0m\n\u001b[1;32m   1061\u001b[0m     \"\"\"\n\u001b[1;32m   1062\u001b[0m     \u001b[0;31m# TODO(slebedev): Consider avoiding a copy for non-CPU or remote tensors.\u001b[0m\u001b[0;34m\u001b[0m\u001b[0;34m\u001b[0m\u001b[0;34m\u001b[0m\u001b[0m\n\u001b[0;32m-> 1063\u001b[0;31m     \u001b[0mmaybe_arr\u001b[0m \u001b[0;34m=\u001b[0m \u001b[0mself\u001b[0m\u001b[0;34m.\u001b[0m\u001b[0m_numpy\u001b[0m\u001b[0;34m(\u001b[0m\u001b[0;34m)\u001b[0m  \u001b[0;31m# pylint: disable=protected-access\u001b[0m\u001b[0;34m\u001b[0m\u001b[0;34m\u001b[0m\u001b[0m\n\u001b[0m\u001b[1;32m   1064\u001b[0m     \u001b[0;32mreturn\u001b[0m \u001b[0mmaybe_arr\u001b[0m\u001b[0;34m.\u001b[0m\u001b[0mcopy\u001b[0m\u001b[0;34m(\u001b[0m\u001b[0;34m)\u001b[0m \u001b[0;32mif\u001b[0m \u001b[0misinstance\u001b[0m\u001b[0;34m(\u001b[0m\u001b[0mmaybe_arr\u001b[0m\u001b[0;34m,\u001b[0m \u001b[0mnp\u001b[0m\u001b[0;34m.\u001b[0m\u001b[0mndarray\u001b[0m\u001b[0;34m)\u001b[0m \u001b[0;32melse\u001b[0m \u001b[0mmaybe_arr\u001b[0m\u001b[0;34m\u001b[0m\u001b[0;34m\u001b[0m\u001b[0m\n\u001b[1;32m   1065\u001b[0m \u001b[0;34m\u001b[0m\u001b[0m\n",
            "\u001b[0;32m/usr/local/lib/python3.6/dist-packages/tensorflow/python/framework/ops.py\u001b[0m in \u001b[0;36m_numpy\u001b[0;34m(self)\u001b[0m\n\u001b[1;32m   1027\u001b[0m   \u001b[0;32mdef\u001b[0m \u001b[0m_numpy\u001b[0m\u001b[0;34m(\u001b[0m\u001b[0mself\u001b[0m\u001b[0;34m)\u001b[0m\u001b[0;34m:\u001b[0m\u001b[0;34m\u001b[0m\u001b[0;34m\u001b[0m\u001b[0m\n\u001b[1;32m   1028\u001b[0m     \u001b[0;32mtry\u001b[0m\u001b[0;34m:\u001b[0m\u001b[0;34m\u001b[0m\u001b[0;34m\u001b[0m\u001b[0m\n\u001b[0;32m-> 1029\u001b[0;31m       \u001b[0;32mreturn\u001b[0m \u001b[0mself\u001b[0m\u001b[0;34m.\u001b[0m\u001b[0m_numpy_internal\u001b[0m\u001b[0;34m(\u001b[0m\u001b[0;34m)\u001b[0m\u001b[0;34m\u001b[0m\u001b[0;34m\u001b[0m\u001b[0m\n\u001b[0m\u001b[1;32m   1030\u001b[0m     \u001b[0;32mexcept\u001b[0m \u001b[0mcore\u001b[0m\u001b[0;34m.\u001b[0m\u001b[0m_NotOkStatusException\u001b[0m \u001b[0;32mas\u001b[0m \u001b[0me\u001b[0m\u001b[0;34m:\u001b[0m  \u001b[0;31m# pylint: disable=protected-access\u001b[0m\u001b[0;34m\u001b[0m\u001b[0;34m\u001b[0m\u001b[0m\n\u001b[1;32m   1031\u001b[0m       \u001b[0msix\u001b[0m\u001b[0;34m.\u001b[0m\u001b[0mraise_from\u001b[0m\u001b[0;34m(\u001b[0m\u001b[0mcore\u001b[0m\u001b[0;34m.\u001b[0m\u001b[0m_status_to_exception\u001b[0m\u001b[0;34m(\u001b[0m\u001b[0me\u001b[0m\u001b[0;34m.\u001b[0m\u001b[0mcode\u001b[0m\u001b[0;34m,\u001b[0m \u001b[0me\u001b[0m\u001b[0;34m.\u001b[0m\u001b[0mmessage\u001b[0m\u001b[0;34m)\u001b[0m\u001b[0;34m,\u001b[0m \u001b[0;32mNone\u001b[0m\u001b[0;34m)\u001b[0m  \u001b[0;31m# pylint: disable=protected-access\u001b[0m\u001b[0;34m\u001b[0m\u001b[0;34m\u001b[0m\u001b[0m\n",
            "\u001b[0;31mKeyboardInterrupt\u001b[0m: "
          ]
        }
      ]
    },
    {
      "cell_type": "markdown",
      "metadata": {
        "id": "RYGo7-mXSDul"
      },
      "source": [
        "Plot accuracies:"
      ]
    },
    {
      "cell_type": "code",
      "metadata": {
        "id": "Mz1Y5xO5N6rt",
        "outputId": "66aad703-6050-4585-be00-d87cd0cc8d0a",
        "colab": {
          "base_uri": "https://localhost:8080/",
          "height": 390
        }
      },
      "source": [
        "# visualize the model\n",
        "acc = history.history['accuracy']\n",
        "val_acc = history.history['val_accuracy']\n",
        "\n",
        "loss = history.history['loss']\n",
        "val_loss = history.history['val_loss']\n",
        "\n",
        "epochs_range = range(20)\n",
        "\n",
        "plt.figure(figsize=(15, 6))\n",
        "plt.subplot(1, 2, 1)\n",
        "plt.plot(epochs_range, acc, label='Training Accuracy')\n",
        "plt.plot(epochs_range, val_acc, label='Validation Accuracy')\n",
        "plt.legend(loc='lower right')\n",
        "plt.title('Training and Validation Accuracy')\n",
        "\n",
        "plt.subplot(1, 2, 2)\n",
        "plt.plot(epochs_range, loss, label='Training Loss')\n",
        "plt.plot(epochs_range, val_loss, label='Validation Loss')\n",
        "plt.legend(loc='upper right')\n",
        "plt.title('Training and Validation Loss')\n",
        "plt.show()"
      ],
      "execution_count": null,
      "outputs": [
        {
          "output_type": "display_data",
          "data": {
            "image/png": "[encoded data removed]",
            "text/plain": [
              "<Figure size 1080x432 with 2 Axes>"
            ]
          },
          "metadata": {
            "tags": [],
            "needs_background": "light"
          }
        }
      ]
    },
    {
      "cell_type": "markdown",
      "metadata": {
        "id": "fOmO5aL6SDmQ"
      },
      "source": [
        "Plot confussion matrix:"
      ]
    },
    {
      "cell_type": "code",
      "metadata": {
        "id": "GvIcVsFGTKy7",
        "outputId": "6974c443-c832-401d-903f-f2d6f210cf6f",
        "colab": {
          "base_uri": "https://localhost:8080/"
        }
      },
      "source": [
        "# https://stackoverflow.com/questions/51282098/plotting-confusion-matrix-for-an-image-classification-model\n",
        "\n",
        "from sklearn.metrics import classification_report\n",
        "import sklearn.metrics as metrics\n",
        "\n",
        "\n",
        "classes = ['0','1','2','3', '4', '5', '6']\n",
        "\n",
        "Y_pred = model.predict(test_images)\n",
        "\n",
        "y_preds = np.argmax(Y_pred, axis=1)\n",
        "\n",
        "y_preds\n",
        "\n",
        "#print('Confusion Matrix')\n",
        "#print(metrics.confusion_matrix(test_labels, y_preds))\n",
        "#print(\"\")\n",
        "#print('Classification Report')\n",
        "#print(classification_report(test_labels, y_preds, target_names=classes))"
      ],
      "execution_count": null,
      "outputs": [
        {
          "output_type": "execute_result",
          "data": {
            "text/plain": [
              "array([2, 1, 0, ..., 4, 0, 5])"
            ]
          },
          "metadata": {
            "tags": []
          },
          "execution_count": 74
        }
      ]
    },
    {
      "cell_type": "code",
      "metadata": {
        "id": "PvoATuipTLob"
      },
      "source": [
        ""
      ],
      "execution_count": null,
      "outputs": []
    }
  ]
}