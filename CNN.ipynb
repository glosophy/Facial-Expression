{
  "nbformat": 4,
  "nbformat_minor": 0,
  "metadata": {
    "colab": {
      "name": "CNN.ipynb",
      "provenance": [],
      "collapsed_sections": [],
      "machine_shape": "hm",
      "mount_file_id": "1biSJlgF0FIn-6JPfdZkiVOYvqiu50eNn",
      "authorship_tag": "ABX9TyNcCO2iTkj1pMWdERvYLzNQ"
    },
    "kernelspec": {
      "name": "python3",
      "display_name": "Python 3"
    },
    "accelerator": "GPU"
  },
  "cells": [
    {
      "cell_type": "markdown",
      "metadata": {
        "id": "PGDnfyPLKgjC"
      },
      "source": [
        "[![Open In Colab](https://colab.research.google.com/assets/colab-badge.svg)](https://colab.research.google.com/github/googlecolab/colabtools/blob/master/notebooks/colab-github-demo.ipynb)"
      ]
    },
    {
      "cell_type": "code",
      "metadata": {
        "id": "wT6F4kIHKbbz",
        "outputId": "99f44b12-8ead-4d9f-f79c-2d939a01a763",
        "colab": {
          "base_uri": "https://localhost:8080/"
        }
      },
      "source": [
        "from google.colab import drive\n",
        "drive.mount('/gdrive')\n",
        "%cd /gdrive"
      ],
      "execution_count": 1,
      "outputs": [
        {
          "output_type": "stream",
          "text": [
            "Mounted at /gdrive\n",
            "/gdrive\n"
          ],
          "name": "stdout"
        }
      ]
    },
    {
      "cell_type": "markdown",
      "metadata": {
        "id": "5TNDU8CBgdoD"
      },
      "source": [
        "Import libraries:"
      ]
    },
    {
      "cell_type": "code",
      "metadata": {
        "id": "T_ziQEyELo4z"
      },
      "source": [
        "import os, glob, cv2\n",
        "import numpy as np\n",
        "import pathlib\n",
        "from collections import Counter\n",
        "from keras.utils import to_categorical\n",
        "from sklearn import preprocessing\n",
        "import collections\n",
        "import glob\n",
        "import IPython.display as display\n",
        "from PIL import Image\n",
        "import numpy as np\n",
        "import matplotlib.pyplot as plt\n",
        "import tensorflow as tf\n",
        "from keras.utils import to_categorical\n",
        "from sklearn.utils import class_weight\n",
        "import random\n",
        "from keras.preprocessing import image\n",
        "from keras.models import Model\n",
        "from tensorflow.keras.wrappers.scikit_learn import KerasClassifier\n",
        "from sklearn.model_selection import GridSearchCV\n",
        "from tensorboard.plugins.hparams import api as hp\n",
        "from tensorflow.keras.layers import Dense, Dropout\n",
        "from tensorflow.keras import layers, models\n",
        "from keras.preprocessing.image import ImageDataGenerator\n",
        "from tensorflow.keras import regularizers\n",
        "import sklearn.metrics as metrics\n",
        "from keras.layers import Conv2D, MaxPool2D, Flatten, BatchNormalization, Activation, MaxPooling2D\n",
        "from keras.optimizers import SGD"
      ],
      "execution_count": 44,
      "outputs": []
    },
    {
      "cell_type": "markdown",
      "metadata": {
        "id": "01ZVRgO6giwi"
      },
      "source": [
        "See Kaggle folder content:"
      ]
    },
    {
      "cell_type": "code",
      "metadata": {
        "id": "je8IRW2FeoZC",
        "outputId": "c819f8df-c16b-4df4-e1bd-f24dfbfafb9b",
        "colab": {
          "base_uri": "https://localhost:8080/"
        }
      },
      "source": [
        "path = '/gdrive/My Drive/Colab Notebooks/Facial-Expression/facial-expression/'\n",
        "os.listdir(path)"
      ],
      "execution_count": 3,
      "outputs": [
        {
          "output_type": "execute_result",
          "data": {
            "text/plain": [
              "['fer2013',\n",
              " 'example_submission.csv',\n",
              " 'fer2013.tar.gz',\n",
              " 'icml_face_data.csv',\n",
              " 'test.csv',\n",
              " 'train.csv']"
            ]
          },
          "metadata": {
            "tags": []
          },
          "execution_count": 3
        }
      ]
    },
    {
      "cell_type": "markdown",
      "metadata": {
        "id": "C5TkizhwiTh3"
      },
      "source": [
        "Load the data:"
      ]
    },
    {
      "cell_type": "code",
      "metadata": {
        "id": "-KZl6lKDg-Ty",
        "outputId": "4affa51d-08f4-4363-a53d-7db0d62a0836",
        "colab": {
          "base_uri": "https://localhost:8080/",
          "height": 204
        }
      },
      "source": [
        "import pandas as pd\n",
        "\n",
        "df = pd.read_csv(path+'icml_face_data.csv')\n",
        "\n",
        "df.head()"
      ],
      "execution_count": 53,
      "outputs": [
        {
          "output_type": "execute_result",
          "data": {
            "text/html": [
              "<div>\n",
              "<style scoped>\n",
              "    .dataframe tbody tr th:only-of-type {\n",
              "        vertical-align: middle;\n",
              "    }\n",
              "\n",
              "    .dataframe tbody tr th {\n",
              "        vertical-align: top;\n",
              "    }\n",
              "\n",
              "    .dataframe thead th {\n",
              "        text-align: right;\n",
              "    }\n",
              "</style>\n",
              "<table border=\"1\" class=\"dataframe\">\n",
              "  <thead>\n",
              "    <tr style=\"text-align: right;\">\n",
              "      <th></th>\n",
              "      <th>emotion</th>\n",
              "      <th>Usage</th>\n",
              "      <th>pixels</th>\n",
              "    </tr>\n",
              "  </thead>\n",
              "  <tbody>\n",
              "    <tr>\n",
              "      <th>0</th>\n",
              "      <td>0</td>\n",
              "      <td>Training</td>\n",
              "      <td>70 80 82 72 58 58 60 63 54 58 60 48 89 115 121...</td>\n",
              "    </tr>\n",
              "    <tr>\n",
              "      <th>1</th>\n",
              "      <td>0</td>\n",
              "      <td>Training</td>\n",
              "      <td>151 150 147 155 148 133 111 140 170 174 182 15...</td>\n",
              "    </tr>\n",
              "    <tr>\n",
              "      <th>2</th>\n",
              "      <td>2</td>\n",
              "      <td>Training</td>\n",
              "      <td>231 212 156 164 174 138 161 173 182 200 106 38...</td>\n",
              "    </tr>\n",
              "    <tr>\n",
              "      <th>3</th>\n",
              "      <td>4</td>\n",
              "      <td>Training</td>\n",
              "      <td>24 32 36 30 32 23 19 20 30 41 21 22 32 34 21 1...</td>\n",
              "    </tr>\n",
              "    <tr>\n",
              "      <th>4</th>\n",
              "      <td>6</td>\n",
              "      <td>Training</td>\n",
              "      <td>4 0 0 0 0 0 0 0 0 0 0 0 3 15 23 28 48 50 58 84...</td>\n",
              "    </tr>\n",
              "  </tbody>\n",
              "</table>\n",
              "</div>"
            ],
            "text/plain": [
              "   emotion     Usage                                             pixels\n",
              "0        0  Training  70 80 82 72 58 58 60 63 54 58 60 48 89 115 121...\n",
              "1        0  Training  151 150 147 155 148 133 111 140 170 174 182 15...\n",
              "2        2  Training  231 212 156 164 174 138 161 173 182 200 106 38...\n",
              "3        4  Training  24 32 36 30 32 23 19 20 30 41 21 22 32 34 21 1...\n",
              "4        6  Training  4 0 0 0 0 0 0 0 0 0 0 0 3 15 23 28 48 50 58 84..."
            ]
          },
          "metadata": {
            "tags": []
          },
          "execution_count": 53
        }
      ]
    },
    {
      "cell_type": "markdown",
      "metadata": {
        "id": "QJ9fF5DwmmAc"
      },
      "source": [
        "Prepare and split data into train, test, and validation:"
      ]
    },
    {
      "cell_type": "code",
      "metadata": {
        "id": "DPbKUek9nJt6"
      },
      "source": [
        "training = df[df[' Usage'] == 'Training']\n",
        "test = df[df[' Usage'] == 'PublicTest']\n",
        "validation = df[df[' Usage'] == 'PrivateTest']"
      ],
      "execution_count": 54,
      "outputs": []
    },
    {
      "cell_type": "code",
      "metadata": {
        "id": "ay7-VnQXkxpR"
      },
      "source": [
        "def getImgLabel(df1):\n",
        "  '''It returns images and labels for each dataframe'''\n",
        "\n",
        "  labels = []\n",
        "  images = []\n",
        "  \n",
        "  df1.reset_index(drop=True, inplace=True)\n",
        "\n",
        "  for j in range(len(df1)):\n",
        "    image = np.fromstring(df1.loc[j, ' pixels'], dtype=int, sep=' ')\n",
        "    image = np.reshape(image, (48, 48))\n",
        "    images.append(image)\n",
        "  labels.append(df1['emotion'].tolist())\n",
        "\n",
        "  return np.array(labels[0]), np.array(images)"
      ],
      "execution_count": 55,
      "outputs": []
    },
    {
      "cell_type": "code",
      "metadata": {
        "id": "yZF_Lf4tkyOO"
      },
      "source": [
        "train_labels, train_images = getImgLabel(training)\n",
        "test_labels, test_images = getImgLabel(test)\n",
        "val_labels, val_images = getImgLabel(validation)"
      ],
      "execution_count": 56,
      "outputs": []
    },
    {
      "cell_type": "code",
      "metadata": {
        "id": "hXdlIRDBmI1i",
        "outputId": "1ef2a290-bc88-4d87-9312-bd58353fc7f3",
        "colab": {
          "base_uri": "https://localhost:8080/"
        }
      },
      "source": [
        "print('Train images count:', len(train_images))\n",
        "print('Train labels count:', len(train_labels))\n",
        "print('')\n",
        "print('Test images count:', len(test_images))\n",
        "print('Test labels count:', len(test_labels))\n",
        "print('')\n",
        "print('Validation images count:', len(val_images))\n",
        "print('Validation images count:', len(val_labels))"
      ],
      "execution_count": 57,
      "outputs": [
        {
          "output_type": "stream",
          "text": [
            "Train images count: 28709\n",
            "Train labels count: 28709\n",
            "\n",
            "Test images count: 3589\n",
            "Test labels count: 3589\n",
            "\n",
            "Validation images count: 3589\n",
            "Validation images count: 3589\n"
          ],
          "name": "stdout"
        }
      ]
    },
    {
      "cell_type": "code",
      "metadata": {
        "id": "4NjNdxSeHFAI",
        "outputId": "23bddc24-b2ce-4497-a216-b7a484ea2693",
        "colab": {
          "base_uri": "https://localhost:8080/"
        }
      },
      "source": [
        "from collections import Counter\n",
        "import matplotlib.pyplot as plt\n",
        "\n",
        "count_train = Counter(train_labels)\n",
        "lists = sorted(count_train.items()) # sorted by key, return a list of tuples\n",
        "print(lists)"
      ],
      "execution_count": 58,
      "outputs": [
        {
          "output_type": "stream",
          "text": [
            "[(0, 3995), (1, 436), (2, 4097), (3, 7215), (4, 4830), (5, 3171), (6, 4965)]\n"
          ],
          "name": "stdout"
        }
      ]
    },
    {
      "cell_type": "markdown",
      "metadata": {
        "id": "suPDmiW8PO5F"
      },
      "source": [
        "Prepare data to fit in CNN:"
      ]
    },
    {
      "cell_type": "code",
      "metadata": {
        "id": "M1WwvsW-OVLM"
      },
      "source": [
        "train_images = (train_images.reshape((train_images.shape[0], 48, 48, 1))).astype('float32')/255\n",
        "val_images = (val_images.reshape((val_images.shape[0], 48, 48, 1))).astype('float32')/255\n",
        "test_images = (test_images.reshape((test_images.shape[0], 48, 48, 1))).astype('float32')/255"
      ],
      "execution_count": 59,
      "outputs": []
    },
    {
      "cell_type": "code",
      "metadata": {
        "id": "YfNcy4ysPTtP"
      },
      "source": [
        "train_labels = to_categorical(train_labels)\n",
        "test_labels = to_categorical(test_labels)\n",
        "val_labels = to_categorical(val_labels)"
      ],
      "execution_count": 60,
      "outputs": []
    },
    {
      "cell_type": "markdown",
      "metadata": {
        "id": "K8zOJ-52Lbdu"
      },
      "source": [
        "Build CNN"
      ]
    },
    {
      "cell_type": "code",
      "metadata": {
        "id": "xvTMBJz7Qd8B"
      },
      "source": [
        "model = models.Sequential()\n",
        "model.add(layers.Conv2D(128, (3, 3), activation='relu', input_shape=(48, 48, 1)))\n",
        "model.add(layers.MaxPooling2D((2, 2)))\n",
        "\n",
        "#model.add(layers.Conv2D(128, (3, 3), activation='relu'))\n",
        "#model.add(layers.MaxPooling2D((2, 2)))\n",
        "\n",
        "model.add(layers.Conv2D(128, (3, 3), activation='relu'))\n",
        "model.add(layers.MaxPooling2D((2, 2)))\n",
        "\n",
        "model.add(layers.Conv2D(256, (3, 3), activation='relu'))\n",
        "model.add(layers.MaxPooling2D((2, 2)))\n",
        "\n",
        "model.add(layers.GlobalAveragePooling2D())\n",
        "model.add(layers.Dense(7, activation='softmax'))\n",
        "\n",
        "model.compile(optimizer='adam', loss='categorical_crossentropy', metrics=['accuracy'])"
      ],
      "execution_count": 104,
      "outputs": []
    },
    {
      "cell_type": "code",
      "metadata": {
        "id": "KDPdNFERGiLZ",
        "outputId": "47578e86-f395-4232-b2e0-cc01a70b52c1",
        "colab": {
          "base_uri": "https://localhost:8080/"
        }
      },
      "source": [
        "model.summary()"
      ],
      "execution_count": 105,
      "outputs": [
        {
          "output_type": "stream",
          "text": [
            "Model: \"sequential_25\"\n",
            "_________________________________________________________________\n",
            "Layer (type)                 Output Shape              Param #   \n",
            "=================================================================\n",
            "conv2d_73 (Conv2D)           (None, 46, 46, 128)       1280      \n",
            "_________________________________________________________________\n",
            "max_pooling2d_49 (MaxPooling (None, 23, 23, 128)       0         \n",
            "_________________________________________________________________\n",
            "conv2d_74 (Conv2D)           (None, 21, 21, 128)       147584    \n",
            "_________________________________________________________________\n",
            "max_pooling2d_50 (MaxPooling (None, 10, 10, 128)       0         \n",
            "_________________________________________________________________\n",
            "conv2d_75 (Conv2D)           (None, 8, 8, 256)         295168    \n",
            "_________________________________________________________________\n",
            "max_pooling2d_51 (MaxPooling (None, 4, 4, 256)         0         \n",
            "_________________________________________________________________\n",
            "global_average_pooling2d_11  (None, 256)               0         \n",
            "_________________________________________________________________\n",
            "dense_41 (Dense)             (None, 7)                 1799      \n",
            "=================================================================\n",
            "Total params: 445,831\n",
            "Trainable params: 445,831\n",
            "Non-trainable params: 0\n",
            "_________________________________________________________________\n"
          ],
          "name": "stdout"
        }
      ]
    },
    {
      "cell_type": "code",
      "metadata": {
        "id": "Q2k1bWvpNrK5",
        "outputId": "b6cb766e-f61c-463b-e006-fd2669bcf0b6",
        "colab": {
          "base_uri": "https://localhost:8080/"
        }
      },
      "source": [
        "history = model.fit(train_images, train_labels,\n",
        "                    validation_data=(val_images, val_labels),\n",
        "                    epochs=20,\n",
        "                    batch_size=64)"
      ],
      "execution_count": 106,
      "outputs": [
        {
          "output_type": "stream",
          "text": [
            "Epoch 1/20\n",
            "449/449 [==============================] - 3s 7ms/step - loss: 1.7979 - accuracy: 0.2535 - val_loss: 1.7930 - val_accuracy: 0.2558\n",
            "Epoch 2/20\n",
            "449/449 [==============================] - 3s 6ms/step - loss: 1.7552 - accuracy: 0.2748 - val_loss: 1.7151 - val_accuracy: 0.2856\n",
            "Epoch 3/20\n",
            "449/449 [==============================] - 3s 6ms/step - loss: 1.6583 - accuracy: 0.3338 - val_loss: 1.6012 - val_accuracy: 0.3494\n",
            "Epoch 4/20\n",
            "449/449 [==============================] - 3s 6ms/step - loss: 1.5667 - accuracy: 0.3860 - val_loss: 1.5127 - val_accuracy: 0.4163\n",
            "Epoch 5/20\n",
            "449/449 [==============================] - 3s 6ms/step - loss: 1.4817 - accuracy: 0.4324 - val_loss: 1.4436 - val_accuracy: 0.4447\n",
            "Epoch 6/20\n",
            "449/449 [==============================] - 3s 6ms/step - loss: 1.4191 - accuracy: 0.4614 - val_loss: 1.4110 - val_accuracy: 0.4656\n",
            "Epoch 7/20\n",
            "449/449 [==============================] - 3s 6ms/step - loss: 1.3663 - accuracy: 0.4860 - val_loss: 1.3550 - val_accuracy: 0.4870\n",
            "Epoch 8/20\n",
            "449/449 [==============================] - 3s 6ms/step - loss: 1.3255 - accuracy: 0.5014 - val_loss: 1.3212 - val_accuracy: 0.5021\n",
            "Epoch 9/20\n",
            "449/449 [==============================] - 3s 6ms/step - loss: 1.2904 - accuracy: 0.5176 - val_loss: 1.3235 - val_accuracy: 0.4901\n",
            "Epoch 10/20\n",
            "449/449 [==============================] - 3s 6ms/step - loss: 1.2607 - accuracy: 0.5285 - val_loss: 1.3177 - val_accuracy: 0.5004\n",
            "Epoch 11/20\n",
            "449/449 [==============================] - 3s 6ms/step - loss: 1.2252 - accuracy: 0.5440 - val_loss: 1.2588 - val_accuracy: 0.5191\n",
            "Epoch 12/20\n",
            "449/449 [==============================] - 3s 6ms/step - loss: 1.2016 - accuracy: 0.5525 - val_loss: 1.2470 - val_accuracy: 0.5280\n",
            "Epoch 13/20\n",
            "449/449 [==============================] - 3s 6ms/step - loss: 1.1696 - accuracy: 0.5661 - val_loss: 1.2280 - val_accuracy: 0.5325\n",
            "Epoch 14/20\n",
            "449/449 [==============================] - 3s 6ms/step - loss: 1.1452 - accuracy: 0.5716 - val_loss: 1.2203 - val_accuracy: 0.5350\n",
            "Epoch 15/20\n",
            "449/449 [==============================] - 3s 7ms/step - loss: 1.1160 - accuracy: 0.5848 - val_loss: 1.2179 - val_accuracy: 0.5369\n",
            "Epoch 16/20\n",
            "449/449 [==============================] - 3s 7ms/step - loss: 1.0970 - accuracy: 0.5923 - val_loss: 1.1961 - val_accuracy: 0.5428\n",
            "Epoch 17/20\n",
            "449/449 [==============================] - 3s 7ms/step - loss: 1.0704 - accuracy: 0.6045 - val_loss: 1.2150 - val_accuracy: 0.5414\n",
            "Epoch 18/20\n",
            "449/449 [==============================] - 3s 6ms/step - loss: 1.0535 - accuracy: 0.6098 - val_loss: 1.1884 - val_accuracy: 0.5525\n",
            "Epoch 19/20\n",
            "449/449 [==============================] - 3s 6ms/step - loss: 1.0274 - accuracy: 0.6192 - val_loss: 1.1785 - val_accuracy: 0.5561\n",
            "Epoch 20/20\n",
            "449/449 [==============================] - 3s 6ms/step - loss: 1.0025 - accuracy: 0.6288 - val_loss: 1.1862 - val_accuracy: 0.5539\n"
          ],
          "name": "stdout"
        }
      ]
    },
    {
      "cell_type": "markdown",
      "metadata": {
        "id": "RYGo7-mXSDul"
      },
      "source": [
        "Plot accuracies:"
      ]
    },
    {
      "cell_type": "code",
      "metadata": {
        "id": "Mz1Y5xO5N6rt",
        "outputId": "197a6ee8-a3c2-4b64-e2db-1ff1ad45855a",
        "colab": {
          "base_uri": "https://localhost:8080/",
          "height": 336
        }
      },
      "source": [
        "# visualize the model\n",
        "acc = history.history['accuracy']\n",
        "val_acc = history.history['val_accuracy']\n",
        "\n",
        "loss = history.history['loss']\n",
        "val_loss = history.history['val_loss']\n",
        "\n",
        "epochs_range = range(20)\n",
        "\n",
        "plt.figure(figsize=(12, 5))\n",
        "plt.subplot(1, 2, 1)\n",
        "plt.plot(epochs_range, acc, label='Training Accuracy')\n",
        "plt.plot(epochs_range, val_acc, label='Validation Accuracy')\n",
        "plt.legend(loc='lower right')\n",
        "plt.title('Training and Validation Accuracy')\n",
        "\n",
        "plt.subplot(1, 2, 2)\n",
        "plt.plot(epochs_range, loss, label='Training Loss')\n",
        "plt.plot(epochs_range, val_loss, label='Validation Loss')\n",
        "plt.legend(loc='upper right')\n",
        "plt.title('Training and Validation Loss')\n",
        "plt.show()"
      ],
      "execution_count": 107,
      "outputs": [
        {
          "output_type": "display_data",
          "data": {
            "image/png": "[encoded data removed]",
            "text/plain": [
              "<Figure size 864x360 with 2 Axes>"
            ]
          },
          "metadata": {
            "tags": [],
            "needs_background": "light"
          }
        }
      ]
    },
    {
      "cell_type": "markdown",
      "metadata": {
        "id": "fOmO5aL6SDmQ"
      },
      "source": [
        "Model evaluation:"
      ]
    },
    {
      "cell_type": "code",
      "metadata": {
        "id": "GvIcVsFGTKy7",
        "outputId": "847f1a4b-6748-4919-cbff-68fc5824d803",
        "colab": {
          "base_uri": "https://localhost:8080/"
        }
      },
      "source": [
        "scores = model.evaluate(test_images, test_labels, verbose=False)\n",
        "print(f'Test accuracy: {scores[1]}')"
      ],
      "execution_count": 108,
      "outputs": [
        {
          "output_type": "stream",
          "text": [
            "Test accuracy: 0.5494566559791565\n"
          ],
          "name": "stdout"
        }
      ]
    },
    {
      "cell_type": "markdown",
      "metadata": {
        "id": "v_nDNALIXRU-"
      },
      "source": [
        "Confussion matrix:"
      ]
    },
    {
      "cell_type": "code",
      "metadata": {
        "id": "PvoATuipTLob",
        "outputId": "057e9049-d45d-4c93-92e7-200d9a0fcbd8",
        "colab": {
          "base_uri": "https://localhost:8080/",
          "height": 448
        }
      },
      "source": [
        "# https://stackoverflow.com/questions/51282098/plotting-confusion-matrix-for-an-image-classification-model\n",
        "\n",
        "from sklearn.metrics import confusion_matrix\n",
        "import sklearn.metrics as metrics\n",
        "import seaborn as sns\n",
        "\n",
        "classes = ['Angry', 'Disgust', 'Fear', 'Happy', 'Sad', 'Surprise', 'Neutral']\n",
        "\n",
        "y_pred = model.predict(test_images)\n",
        "y_pred = np.asarray([np.argmax(e) for e in y_pred])\n",
        "y_true = np.asarray([np.argmax(e) for e in test_labels])\n",
        "\n",
        "cm = confusion_matrix(y_true, y_pred)\n",
        "\n",
        "# Plot confusion matrix\n",
        "fig, ax = plt.subplots(figsize=(7,7))\n",
        "ax = sns.heatmap(cm, annot=True,  \n",
        "                 cmap='Blues', yticklabels=classes,\n",
        "                 xticklabels=classes, vmin=0,\n",
        "                 vmax=np.max(cm), fmt=\".0f\")\n",
        "ax.set(xlabel='Predicted label', ylabel='True label')\n",
        "plt.show()"
      ],
      "execution_count": 126,
      "outputs": [
        {
          "output_type": "display_data",
          "data": {
            "image/png": "[encoded data removed]",
            "text/plain": [
              "<Figure size 504x504 with 2 Axes>"
            ]
          },
          "metadata": {
            "tags": []
          }
        }
      ]
    },
    {
      "cell_type": "markdown",
      "metadata": {
        "id": "UumTgoEDcq_Q"
      },
      "source": [
        "Classification report:"
      ]
    },
    {
      "cell_type": "code",
      "metadata": {
        "id": "hw_e2gzAbuUi",
        "outputId": "f37f22ea-a7da-472d-c641-b83611879ca4",
        "colab": {
          "base_uri": "https://localhost:8080/"
        }
      },
      "source": [
        "from sklearn.metrics import classification_report\n",
        "\n",
        "print(classification_report(y_true, y_pred, target_names=classes))"
      ],
      "execution_count": 127,
      "outputs": [
        {
          "output_type": "stream",
          "text": [
            "              precision    recall  f1-score   support\n",
            "\n",
            "       Angry       0.40      0.53      0.46       467\n",
            "     Disgust       0.38      0.09      0.14        56\n",
            "        Fear       0.42      0.22      0.29       496\n",
            "       Happy       0.72      0.81      0.76       895\n",
            "         Sad       0.44      0.49      0.46       653\n",
            "    Surprise       0.75      0.64      0.69       415\n",
            "     Neutral       0.49      0.49      0.49       607\n",
            "\n",
            "    accuracy                           0.55      3589\n",
            "   macro avg       0.51      0.47      0.47      3589\n",
            "weighted avg       0.54      0.55      0.54      3589\n",
            "\n"
          ],
          "name": "stdout"
        }
      ]
    }
  ]
}